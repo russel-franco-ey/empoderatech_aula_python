{
  "cells": [
    {
      "cell_type": "markdown",
      "metadata": {
        "colab_type": "text",
        "id": "view-in-github"
      },
      "source": [
        "<a href=\"https://colab.research.google.com/github/russel-franco-ey/empoderatech_aula_python/blob/main/programcao_python.ipynb\" target=\"_parent\"><img src=\"https://colab.research.google.com/assets/colab-badge.svg\" alt=\"Open In Colab\"/></a>"
      ]
    },
    {
      "cell_type": "markdown",
      "metadata": {
        "id": "4HzPrs8DAuhC"
      },
      "source": [
        "#1 - Introdução ao Python"
      ]
    },
    {
      "cell_type": "markdown",
      "metadata": {
        "id": "DePi-BArBWsH"
      },
      "source": [
        "O Python é uma das linguagens de programação mais populares do mundo. Criado no início da década de 1990, ele tem uma ampla variedade de usos, desde automatizar tarefas repetitivas e escrever aplicativos Web até criar modelos de machine learning e implementar redes neurais. \n",
        "\n",
        "Cientistas de dados, matemáticos e pesquisadores em particular gostam do Python devido à sua sintaxe avançada e fácil de entender e à grande variedade de pacotes open-source disponíveis. Pacotes são bibliotecas de códigos compartilhados comumente usados disponíveis gratuitamente para qualquer pessoa.\n",
        "\n",
        "O Python tem uma sintaxe simples, fácil de aprender que enfatiza a legibilidade. Aplicativos escritos em Python podem ser executados em praticamente qualquer computador, incluindo aqueles que executam Windows, macOS e distribuições populares do Linux. Além disso, o ecossistema contém um conjunto avançado de ferramentas de desenvolvimento para escrever, depurar e publicar aplicativos do Python.\n",
        "\n",
        "Por fim, o Python tem o suporte de uma comunidade de usuários ativa que está ávida por ajudar novos programadores a aprender o estilo do Python, em que você não apenas acerta a sintaxe, mas usa a linguagem da maneira que ela foi projetada para ser usada."
      ]
    },
    {
      "cell_type": "markdown",
      "metadata": {
        "id": "6IDnFzV1YkdX"
      },
      "source": [
        "#2 - Lógica de Programação"
      ]
    },
    {
      "cell_type": "markdown",
      "metadata": {
        "id": "bkbcbgy-IewE"
      },
      "source": [
        "##Algoritmos\n"
      ]
    },
    {
      "cell_type": "markdown",
      "metadata": {
        "id": "tGSBrOuKIoNG"
      },
      "source": [
        "\n",
        "\n",
        "Conjunto das regras e procedimentos lógicos perfeitamente definidos que levam à solução de um problema em um número finito de etapas.\n",
        "\n",
        "**Mas o que isso quer dizer?**\n",
        "\n",
        "Quando vamos à padaria comprar pão francês, por exemplo, precisamos criar um algoritmo para executar tal ação. Nessa sequência, nós ordenamos os atos em uma sucessão que faça sentido e seja capaz de atingir o objetivo inicial, afinal de contas, não faz sentido algum primeiro sair à rua para depois voltar e pegar a carteira, por exemplo. É importante entender também que existe mais de um algoritmo capaz de solucionar o meu problema e, desde que ele funcione, não existe certo ou errado – mas o conceito de  mais ou menos eficiente é válido aqui.\n",
        "\n",
        "Seguem dois exemplos de sequências onde o intuito das duas é, no final, ter um ovo frito no prato.\n",
        "\n",
        "![Fritar Ovo - 1](https://labs.bluesoft.com.br/wp-content/uploads/2018/12/Captura-de-Tela-2018-12-07-a%CC%80s-10.51.39.png)\n",
        "\n",
        "![Fritar Ovo - 2](https://labs.bluesoft.com.br/wp-content/uploads/2018/12/Captura-de-Tela-2018-12-07-a%CC%80s-10.51.22.png)\n",
        "\n",
        "Enquanto o primeiro exemplo é mais cuidadoso e evita que a pessoa frite um ovo podre ou acabe espirrando óleo acidentalmente ao jogar o ovo na gordura quente,  por exemplo, a segunda é mais rápida e prática. As duas estão certas porque ambas conseguem chegar ao meu objetivo final, mas, talvez, a primeira seja mais eficiente por evitar problemas ao longo dos seus procedimentos."
      ]
    },
    {
      "cell_type": "markdown",
      "metadata": {
        "id": "EgV7TXS7JMdA"
      },
      "source": [
        "##O que são variáveis?\n",
        "\n",
        "Na matemática usamos variáveis para fazer contas por exemplo:\n",
        "\n",
        "x = 5 + 10\n",
        "\n",
        "x = 15\n",
        "\n",
        "No exemplo acima **x** é a variável e está sendo usada para armazenar algo que podemos usar depois.\n",
        "\n",
        "\n",
        "\n",
        "Na programação não é muito diferente disso, também usamos as variáveis para armazenar o que precisamos, como se fossem caixinhas para organizar tudo que vamos usar, e sabermos onde está."
      ]
    },
    {
      "cell_type": "code",
      "execution_count": null,
      "metadata": {
        "colab": {
          "base_uri": "https://localhost:8080/"
        },
        "id": "tpMkuoO6JSEA",
        "outputId": "8f8a0a1f-58bb-4d4d-8011-a4229f75e710"
      },
      "outputs": [
        {
          "name": "stdout",
          "output_type": "stream",
          "text": [
            "Sapatos\n",
            "Camisas\n"
          ]
        }
      ],
      "source": [
        "caixa_de_sapatos = \"Sapatos\"\n",
        "\n",
        "caixa_de_camisas = \"Camisas\"\n",
        "\n",
        "print(caixa_de_sapatos)\n",
        "\n",
        "print(caixa_de_camisas)"
      ]
    },
    {
      "cell_type": "markdown",
      "metadata": {
        "id": "ATHh4kkzJS6V"
      },
      "source": [
        "No exemplo acima estamos guardando **\"Sapatos\"** na variável **caixa_de_sapatos** e **\"Camisas\"** na variável **caixa_de_camisas**\n",
        "\n",
        "\n",
        "\n",
        "Cada variável só aceita uma coisa de cada vez, se eu quiser botar **\"Sapatos\"** na variável **caixa_de_camisas** não vai sobrar mais espaço para as **\"Camisas\"**. \n",
        "\n",
        "Veja o exemplo:\n",
        "\n"
      ]
    },
    {
      "cell_type": "code",
      "execution_count": null,
      "metadata": {
        "id": "9W_1JJU-vFYe"
      },
      "outputs": [],
      "source": []
    },
    {
      "cell_type": "code",
      "execution_count": null,
      "metadata": {
        "colab": {
          "base_uri": "https://localhost:8080/"
        },
        "id": "NJSyDtOwJYQH",
        "outputId": "a40ba8b2-9dc7-4add-b1c4-674681a2a850"
      },
      "outputs": [
        {
          "name": "stdout",
          "output_type": "stream",
          "text": [
            "Camisas\n"
          ]
        }
      ],
      "source": [
        "caixa_de_sapatos = \"Camisas\"\n",
        "print(caixa_de_sapatos)"
      ]
    },
    {
      "cell_type": "markdown",
      "metadata": {
        "id": "0vuy4R2uZIJg"
      },
      "source": [
        "#3 - Comandos Básicos"
      ]
    },
    {
      "cell_type": "markdown",
      "metadata": {
        "id": "uXJFRUZ3ZMTf"
      },
      "source": [
        "##Print"
      ]
    },
    {
      "cell_type": "markdown",
      "metadata": {
        "id": "AH27-lcDZqTd"
      },
      "source": [
        "Como vocês devem ter notado nos exemplo anteriores utilizamos o \"print\" para exibir algumas coisas na tela.\n",
        "O \"print\" é uma das muitas funções que temos no python, e a principal função dela é exibir o que chamamos de saída de dados.\n",
        "\n",
        "Normalmente utilizamos ele para exibir mensagens para o usuário final, mas ele também é uma boa ferramenta para testar se o seu código está se comportando como você planejou, te possibilitando exibir o conteúdo das variáveis enquanto o programa está funcionando(em tempo de execução).\n"
      ]
    },
    {
      "cell_type": "markdown",
      "metadata": {
        "id": "MjIx1SFvvUwq"
      },
      "source": [
        "##Type"
      ]
    },
    {
      "cell_type": "markdown",
      "metadata": {
        "id": "KKoRuX5evmSv"
      },
      "source": [
        "A função type exibe o tipo de um valor ou variável. O valor ou variável, que é chamado de argumento da função, tem que vir entre parênteses. \n",
        "É comum se dizer que uma função ‘recebe’ um valor ou mais valores e ‘retorna’ um resultado. O resultado é chamado de valor de retorno.\n",
        "\n"
      ]
    },
    {
      "cell_type": "code",
      "execution_count": 5,
      "metadata": {
        "colab": {
          "base_uri": "https://localhost:8080/"
        },
        "id": "6a-XIbEIv2gT",
        "outputId": "c09fc67c-b825-47f8-9139-b964e7e3a2e4"
      },
      "outputs": [
        {
          "name": "stdout",
          "output_type": "stream",
          "text": [
            "<class 'int'>\n"
          ]
        }
      ],
      "source": [
        "tipo = type(\"32\")\n",
        "print(tipo)"
      ]
    },
    {
      "cell_type": "markdown",
      "metadata": {
        "id": "sBjsupGmJbyI"
      },
      "source": [
        "## Exercícios"
      ]
    },
    {
      "cell_type": "markdown",
      "metadata": {
        "id": "Xgg5CNy_Jghh"
      },
      "source": [
        " ## Crie uma variável que receba seu nome e outra que receba seu e-mail e exiba ela na tela.\n",
        "\n"
      ]
    },
    {
      "cell_type": "code",
      "execution_count": null,
      "metadata": {
        "id": "YNT1AGM_JoU8"
      },
      "outputs": [],
      "source": [
        "# Coloque aqui o seu código"
      ]
    },
    {
      "cell_type": "markdown",
      "metadata": {
        "id": "BzaWjB00cHPx"
      },
      "source": [
        "##Importar biblioteca"
      ]
    },
    {
      "cell_type": "markdown",
      "metadata": {
        "id": "NYlqvy6WcMip"
      },
      "source": [
        "Uma das coisas que torna o python tão poderoso é a possibilidade de importar bibliotecas que possuem funções que não vem incluídas por padrão no python, mas podem ser incluídas conforme a sua necessidade.\n",
        "\n",
        "Como exemplo temos a biblioteca \"math\" que serve para fazer diversos cáculos matemáticos como por exemplo raiz quadrada.\n",
        "\n",
        "Veja o exemplo:"
      ]
    },
    {
      "cell_type": "code",
      "execution_count": 3,
      "metadata": {
        "colab": {
          "base_uri": "https://localhost:8080/"
        },
        "id": "Tv4eSJ0Qct9e",
        "outputId": "756fe03f-0266-4f0d-ccdd-5a214053e93d"
      },
      "outputs": [
        {
          "name": "stdout",
          "output_type": "stream",
          "text": [
            "2.0\n"
          ]
        }
      ],
      "source": [
        "import math \n",
        "\n",
        "print(math.sqrt(4))"
      ]
    },
    {
      "cell_type": "markdown",
      "metadata": {
        "id": "pyHJcFdBd8jv"
      },
      "source": [
        "##Exercício\n",
        "\n",
        "Use a biblioteca math para realizar a raiz quadrada de 25 e exibir na tela."
      ]
    },
    {
      "cell_type": "code",
      "execution_count": null,
      "metadata": {
        "id": "XSJlMggYeLLl"
      },
      "outputs": [],
      "source": [
        "##Escreva sua solução aqui"
      ]
    },
    {
      "cell_type": "markdown",
      "metadata": {
        "id": "4VvD7edtwcdS"
      },
      "source": [
        "# 4 - Variáveis e Tipos de dados"
      ]
    },
    {
      "cell_type": "markdown",
      "metadata": {
        "id": "IeXfoN9mAqOA"
      },
      "source": [
        "Python possui vários tipos básicos ou fundamentais: números inteiros, números de ponto flutuante, booleanos, números complexos, cadeias de caracteres, etc.\n",
        "\n",
        "##Números inteiros\n",
        "\n",
        "Os tipos de variáveis em Python são inferidos automaticamente pelo interpretador, sem que haja a necessidade de se especificar o tipo da variável no momento de sua declaração. Os exemplos abaixo deixarão esses conceitos mais claros."
      ]
    },
    {
      "cell_type": "code",
      "execution_count": null,
      "metadata": {
        "id": "snYfu5LeAqOB"
      },
      "outputs": [],
      "source": [
        "# Números inteiros\n",
        "x = 1\n",
        "y = 2\n",
        "resultado = x + y\n",
        "print(resultado)\n",
        "print(type(resultado)) "
      ]
    },
    {
      "cell_type": "markdown",
      "metadata": {
        "id": "i_LZRw9TAqOB"
      },
      "source": [
        "\n",
        "\n",
        "##Números de ponto flutuante\n",
        "\n",
        "Se o nome ponto flutuante te assusta, não se preocupe. Números de ponto flutuante nada mais são que números com vírgula, ou como costumamos dizer \"números quebrados\", constrastando com os números inteiros com os quais estamos mais acostumados. Vejamos alguns exemplos de expressões com números de ponto flutuante."
      ]
    },
    {
      "cell_type": "code",
      "execution_count": null,
      "metadata": {
        "id": "ri2q4pBfAqOB"
      },
      "outputs": [],
      "source": [
        "# Números de ponto flutuante\n",
        "x = 1.1\n",
        "y = 2.2\n",
        "resultado = x + y\n",
        "print(resultado)\n",
        "print(type(resultado))"
      ]
    },
    {
      "cell_type": "markdown",
      "metadata": {
        "id": "doXxhRnHAqOB"
      },
      "source": [
        "É importante notar que se pelo menos um dos valores envolvidos em uma expressão numérica for um número de ponto flutuante, o retultado da expressão também será um número de ponto flutuante, como mostrado no exemplo abaixo."
      ]
    },
    {
      "cell_type": "code",
      "execution_count": null,
      "metadata": {
        "id": "HTMqSQDoAqOB"
      },
      "outputs": [],
      "source": [
        "x = 10\n",
        "y = 2.5\n",
        "resultado = x * y\n",
        "print(resultado)\n",
        "print(type(resultado))"
      ]
    },
    {
      "cell_type": "markdown",
      "metadata": {
        "id": "283G6MgKAqOC"
      },
      "source": [
        "## Strings ou cadeias de caracteres"
      ]
    },
    {
      "cell_type": "markdown",
      "metadata": {
        "id": "F1OF-HfrAqOC"
      },
      "source": [
        "Strings nada mais são do que sequências (cadeias) de caracteres. Em outras palavras, uma string é simplesmente uma sequência de zero ou mais letras juntas. Vejamos alguns exemplos."
      ]
    },
    {
      "cell_type": "code",
      "execution_count": null,
      "metadata": {
        "id": "TAAPaxrcAqOC"
      },
      "outputs": [],
      "source": [
        "string_vazia = ''\n",
        "uma_letra = 'a'\n",
        "varias_letras = 'abacate'\n",
        "print(type(string_vazia))\n",
        "print(type(uma_letra))\n",
        "print(type(varias_letras))"
      ]
    },
    {
      "cell_type": "markdown",
      "metadata": {
        "id": "AmdizxMpAqOC"
      },
      "source": [
        "\n",
        "\n",
        "Você deve ter percebido que nos exemplos acima, a sequência de letras das strings aparece entre aspas simples. Em Python, assim como em outras linguagens, precisamos das aspas para declarar uma variável do tipo string. Tanto aspas simples quanto aspas duplas funcionam. A razão da necessidade das aspas é simples: elas diferenciam uma declaração de uma variável do string de uma atribuição entre duas variáveis. O exemplo abaixo vai deixar isso mais claro."
      ]
    },
    {
      "cell_type": "code",
      "execution_count": null,
      "metadata": {},
      "outputs": [],
      "source": [
        "v = 'var' \n",
        "s = v \n",
        "print(v)\n",
        "print(s)"
      ]
    },
    {
      "cell_type": "markdown",
      "metadata": {
        "id": "jHz-rag3weYO"
      },
      "source": [
        "####Valores booleanos\n",
        "* Um booleano (ou tipo ***bool***), em ciência da computação, é um tipo de dado lógico que pode ter apenas um de dois valores possíveis: verdadeiro ou falso. Em Python, condicionais booleanas são usadas para decidir quais trechos do código serão executados ou repetidas. Esses valores são úteis para representar, por exemplo, o resultado de uma comparação. Experimente:"
      ]
    },
    {
      "cell_type": "code",
      "execution_count": 7,
      "metadata": {
        "colab": {
          "base_uri": "https://localhost:8080/"
        },
        "id": "EH1Qg5kNkygP",
        "outputId": "22b04159-58cc-42be-cd59-715ce1586040"
      },
      "outputs": [
        {
          "name": "stdout",
          "output_type": "stream",
          "text": [
            "Valor de a:  5\n",
            "Valor de b:  6\n"
          ]
        }
      ],
      "source": [
        "# Criando as variáveis\n",
        "a = 5\n",
        "b = 6\n",
        "print(\"Valor de a: \", a)\n",
        "print(\"Valor de b: \", b)"
      ]
    },
    {
      "cell_type": "code",
      "execution_count": 8,
      "metadata": {
        "colab": {
          "base_uri": "https://localhost:8080/"
        },
        "id": "nsQVN2yGzkgD",
        "outputId": "f9140480-7a28-4193-e3b5-ec406ef641cd"
      },
      "outputs": [
        {
          "name": "stdout",
          "output_type": "stream",
          "text": [
            "Valor de c:  True\n"
          ]
        }
      ],
      "source": [
        "c = a < b   # c mostra o valor comparado entre a < b\n",
        "print(\"Valor de c: \", c)"
      ]
    },
    {
      "cell_type": "code",
      "execution_count": 9,
      "metadata": {
        "colab": {
          "base_uri": "https://localhost:8080/"
        },
        "id": "UfB6mdmrzkoB",
        "outputId": "28066e35-e96b-4fa0-863b-e5f89b4a4705"
      },
      "outputs": [
        {
          "name": "stdout",
          "output_type": "stream",
          "text": [
            "Valor de d:  False\n"
          ]
        }
      ],
      "source": [
        "d = a > b   # d mostra o valor comparado entre a > b\n",
        "print(\"Valor de d: \", d)"
      ]
    },
    {
      "cell_type": "code",
      "execution_count": 10,
      "metadata": {
        "colab": {
          "base_uri": "https://localhost:8080/"
        },
        "id": "6xGzeaeZzoNK",
        "outputId": "875de8c0-939f-4acc-f8a7-32aae6c8a5a3"
      },
      "outputs": [
        {
          "name": "stdout",
          "output_type": "stream",
          "text": [
            "Valor de e:  False\n"
          ]
        }
      ],
      "source": [
        "e = a == b  # e mostra o valor comparado entre a == b\n",
        "print(\"Valor de e: \", e)"
      ]
    },
    {
      "cell_type": "markdown",
      "metadata": {
        "id": "kF2VxZbXpz1U"
      },
      "source": [
        "Fiquem atentos que True e False não são a mesma coisa que strings (Textos ou Frase), esses valores são do tipo `Bool` e são usados para expressa um valor de verdade (Verdadeiro ou Falso), portanto `True`(**Bool**) não é a mesma coisa que \"True\"(**String**)."
      ]
    },
    {
      "cell_type": "markdown",
      "metadata": {
        "id": "twVBmiy0nSyV"
      },
      "source": [
        "####Operadores e expressões lógicas\n",
        "Assim como expressões aritméticas podem ser formadas por operadores aritméticos (como 2 + 3 * 4), expressões lógicas são formadas por operadores lógicos. Para construir expressões lógicas usando operadores lógicos será possivel utilizar três operadores lógicos: and, or e not. O significado desses operadores é bastante intuitivo, uma vez que ele equivale à interpretação que fazemos deles na língua inglesa (`and` = E | `or` = Ou | `not` = Não ).\n",
        "\n",
        "1. **Operador** `and`\n",
        "<p> Dados dois valores booleanos A e B, o operador lógico and resulta em True apenas quando A e B foram ambos True, e retorna False caso contrário.\n",
        "\n",
        "Execute o programa e veja o resultado, em seguida troque o valor `False` por `True` e execute novamente:"
      ]
    },
    {
      "cell_type": "code",
      "execution_count": 12,
      "metadata": {
        "colab": {
          "base_uri": "https://localhost:8080/"
        },
        "id": "M3VV_4TSo8TA",
        "outputId": "f11fa87f-2bbe-4215-c9f9-2d503d9b1d2d"
      },
      "outputs": [
        {
          "name": "stdout",
          "output_type": "stream",
          "text": [
            "Os valores de C e D são:  False\n"
          ]
        }
      ],
      "source": [
        "C = False\n",
        "D = False # Após rodar uma primeira vez, troque este valor de False para True e execute novamente.\n",
        "print (\"Os valores de C e D são: \", C and D) # Comparação lógica entre as duas variaveis."
      ]
    },
    {
      "cell_type": "markdown",
      "metadata": {
        "id": "uMc_PUOE2uXQ"
      },
      "source": [
        "2. **Operador** `or`\n",
        "<p>Dados dois valores booleanos A e B, o operador lógico `or` resulta em `False` apenas quando A e B foram ambos False, e retorna True caso contrário.\n",
        "\n",
        "Execute o programa e veja o resultado, em seguida troque o valor `True` por `False` e execute novamente:"
      ]
    },
    {
      "cell_type": "code",
      "execution_count": null,
      "metadata": {
        "colab": {
          "base_uri": "https://localhost:8080/"
        },
        "id": "On3r-lIH2_Mo",
        "outputId": "0eb8d9df-4dd4-4002-96e6-6a9e78994145"
      },
      "outputs": [
        {
          "name": "stdout",
          "output_type": "stream",
          "text": [
            "Os valores de A ou B são:  True\n"
          ]
        }
      ],
      "source": [
        "A = True # Após rodar uma primeira vez, troque este valor de True para False e execute novamente.\n",
        "B = False\n",
        "print (\"Os valores de A ou B são: \", A or B)"
      ]
    },
    {
      "cell_type": "markdown",
      "metadata": {
        "id": "ML8222Jy4ckT"
      },
      "source": [
        "Aqui temos uma tabela que mostra como é feito a comparação utilizando o operador `or` para todas as combinações de A e B:\n",
        "\n",
        "or\t      |A = True |\tA = False\n",
        ":------   |:-----:  |:----:\n",
        "B = True  |True\t    |True\n",
        "B = False |True\t    |False"
      ]
    },
    {
      "cell_type": "markdown",
      "metadata": {
        "id": "OLYPS-KF7ibo"
      },
      "source": [
        "3. **Operador** `not`\n",
        "<p> O operador lógico not muda o valor de seu argumento, ou seja, se `not` for igual a `True`, então ele responde como `False` e se `not` for igual a `False` ele responde como `True`."
      ]
    },
    {
      "cell_type": "markdown",
      "metadata": {
        "id": "wfeSptxQwnPv"
      },
      "source": [
        "# 5 - Condicionais"
      ]
    },
    {
      "cell_type": "markdown",
      "metadata": {
        "id": "taxI6yc5-3V1"
      },
      "source": [
        "####Estruturas Condicionais\n",
        "\n",
        "Neste tópico falaremos sobre as estruturas condicionais em Python, mas antes de exibir um exemplo de estrutura condicional no Python, vamos a um pouco de teoria. Uma Estrutura de Condição, como o próprio nome já diz, verifica a condição dos argumentos passados e, executa um comando caso a condição seja verdadeira, como se pode ver no algorítimo abaixo:\n",
        "\n",
        "`SE condição (SE = IF)`\n",
        "<br>`ENTÃO comando`\n",
        "\n",
        "Na estrutura em Python vamos começar conhecendo os Operadores Condicionais do Python. Os Operadores Condicionais são utilizados para fazer as comparações dos valores que são passados e retornam o valor Verdadeiro ou Falso.\n",
        "\n",
        "Operador|\tTipo|\tValor\n",
        "---|---|---\n",
        "==|\tIgualdade|\tVerifica a igualdade entre dois valores.\n",
        "!=|  \tIgualdade|  \tVerifica a diferença entre dois valores.\n",
        ">| \tComparação|\tVerificar se o valor A é maior que o valor B.\n",
        "<| \tComparação|\tVerifica se o valor A é menor que o valor B.\n",
        ">=|\tComparação|\tVerifica se o valor A é maior ou igual ao valor B.\n",
        "<=|\tComparação|\tVerifica se o valor A é menor ou igual ao valor B.\n",
        "In|\tSeqüência|\tVerifica se o valor A está contido em um conjunto."
      ]
    },
    {
      "cell_type": "markdown",
      "metadata": {
        "id": "dUdlVgaxAbFz"
      },
      "source": [
        "1. Estrutura Condicional Simples\n",
        "<p>Agora que já conhecemos os Operadores vamos ver como fazer uma estrutura condicional em Python. Incrementando o nosso exemplo do artigo anterior, iremos verificar se a soma dos valores que o usuário informou é maior que zero e exibir o resultado na tela.\n",
        "\n",
        "Abaixo podemos perceber a estrutura do condicional IF, execute o programa e veja o resultado, em seguida troque o valor da váriavel `valor` de **0** por **1** e execute novamente:"
      ]
    },
    {
      "cell_type": "code",
      "execution_count": null,
      "metadata": {
        "colab": {
          "base_uri": "https://localhost:8080/"
        },
        "id": "xQqke1mJAeBM",
        "outputId": "f98457fd-9e3e-425c-b203-707cf8372aeb"
      },
      "outputs": [
        {
          "name": "stdout",
          "output_type": "stream",
          "text": [
            "Maior que Zero.\n"
          ]
        }
      ],
      "source": [
        "valor = 1\n",
        "\n",
        "if valor > 0:\n",
        "     print (\"Maior que Zero.\")"
      ]
    },
    {
      "cell_type": "markdown",
      "metadata": {
        "id": "qjH4u1poBHiS"
      },
      "source": [
        "Veja que quando foi executado o comando com a váriavel `valor` em valor **0**, o sistema não retornou absolutamente nada, pois como a comparação exige que a variável seja de número maior que **0** então enquanto o valor for este o sistema entenderá como valor booleano `False`, e se você alterar a váriavel `valor` para valor maior que **0** seja 1,2,3 etc, o sistema entenderá que a comparação é verdadeira ou seja `True`, pois a váriavel é maior que **0**."
      ]
    },
    {
      "cell_type": "markdown",
      "metadata": {
        "id": "mqL7TUFhCRwC"
      },
      "source": [
        "2. Estrutura Condicional Composta\n",
        "<p>A Estrutura Condicional Composta executa um comando quando a condição for verdadeira e outra condição quando for falsa. Vamos melhorar o nosso exemplo anterior, agora teremos que mostrar a mensagem **\"Menor que Zero\"** caso o resultado da soma seja menor que zero, como podemos ver abaixo:"
      ]
    },
    {
      "cell_type": "code",
      "execution_count": 14,
      "metadata": {
        "colab": {
          "base_uri": "https://localhost:8080/"
        },
        "id": "cfH3mdGyCsZx",
        "outputId": "c7bfa43d-e58a-4a88-be11-7b1e527b8d81"
      },
      "outputs": [
        {
          "name": "stdout",
          "output_type": "stream",
          "text": [
            "Maior que Zero.\n"
          ]
        }
      ],
      "source": [
        "valor = 2\n",
        "\n",
        "if valor > 1:\n",
        "     print (\"Maior que um.\")\n",
        "else:\n",
        "     print (\"Menor que um.\")"
      ]
    },
    {
      "cell_type": "markdown",
      "metadata": {
        "id": "bGnAfiLfC2R9"
      },
      "source": [
        "Agora usando uma Estrutura Condicional Composta, vemos que há resultado para ambos valores tanto como igual a **0** como também valores maiores que **0**."
      ]
    },
    {
      "cell_type": "markdown",
      "metadata": {
        "id": "1BLsnDPdDIT-"
      },
      "source": [
        "3. Estrutura Condicional Encadeadas\n",
        "<p>Estruturas Condicionais Encadeadas é usada quando precisamos verificar mais de uma condição, ou seja, um IF dentro de outro IF. Uma outra estrutura encadeada é como pode-se notar abaixo. Incrementando o nosso exemplo, agora teremos que exibir uma mensagem caso o valor seja igual a Zero."
      ]
    },
    {
      "cell_type": "code",
      "execution_count": 23,
      "metadata": {
        "colab": {
          "base_uri": "https://localhost:8080/"
        },
        "id": "QqZmLcfIDOyC",
        "outputId": "603e9a27-f65c-4974-be9b-c12c5b96566b"
      },
      "outputs": [
        {
          "name": "stdout",
          "output_type": "stream",
          "text": [
            "Menor que Um.\n"
          ]
        }
      ],
      "source": [
        "valor = 0\n",
        "\n",
        "if valor > 4:\n",
        "     print (\"Maior que Quatro.\")\n",
        "\n",
        "elif valor > 3:\n",
        "     print (\"Maior que Três.\")\n",
        "\n",
        "elif valor > 2:\n",
        "     print (\"Maior que Dois.\")\n",
        "\n",
        "elif valor > 1:\n",
        "     print (\"Maior que Um.\")\n",
        "\n",
        "else:\n",
        "     print (\"Menor que Um.\")"
      ]
    },
    {
      "cell_type": "markdown",
      "metadata": {
        "id": "qACYEXFCDbqa"
      },
      "source": [
        "Neste exemplo podemos perceber um comando diferente, o elif. Este comando é a junção do comando ELSE+IF(SENÂOSE traduzindo para o português) que é utilizado nas Estruturas Condicionais Encadeadas. <p>Cada condição é verificada em ordem. Se a primeira for falsa, a próxima é verificada, e assim por diante. Se uma delas for verdadeira, o ramo correspondente é executado e a instrução é encerrada. Mesmo se mais de uma condição for verdade, só o primeiro ramo verdadeiro é executado."
      ]
    },
    {
      "cell_type": "markdown",
      "metadata": {
        "id": "FEXUgqJqFwtp"
      },
      "source": [
        "4. Estrutura Condicional Aninhadas\n",
        "<p>Uma condicional também pode ser aninhada dentro de outra. Poderíamos ter escrito o exemplo na seção anterior desta forma:"
      ]
    },
    {
      "cell_type": "code",
      "execution_count": null,
      "metadata": {
        "colab": {
          "base_uri": "https://localhost:8080/"
        },
        "id": "hT3rpl-nF_v5",
        "outputId": "81289837-1b18-4ef3-fee8-8182861230c8"
      },
      "outputs": [
        {
          "name": "stdout",
          "output_type": "stream",
          "text": [
            "Igual a Zero.\n"
          ]
        }
      ],
      "source": [
        "valor = 0\n",
        "if valor > 0:\n",
        "    print (\"Maior que Zero.\")\n",
        "else:\n",
        "    if valor == 0:\n",
        "        print (\"Igual a Zero.\")\n",
        "    else:\n",
        "        print (\"Menor que Zero.\")"
      ]
    },
    {
      "cell_type": "markdown",
      "metadata": {
        "id": "27kZ8ZOEGfEK"
      },
      "source": [
        "A condicional exterior contém dois ramos. O primeiro ramo contém uma instrução simples. O segundo ramo contém outra instrução if, que tem outros dois ramos próprios. Esses dois ramos são instruções simples, embora pudessem ser instruções condicionais também.\n",
        "\n",
        "Embora a endentação das instruções evidencie a estrutura das condicionais, condicionais aninhadas são difíceis de ler rapidamente. É uma boa ideia evitá-las quando for possível."
      ]
    },
    {
      "cell_type": "code",
      "execution_count": null,
      "metadata": {
        "id": "SQD8yK1LAqOG"
      },
      "outputs": [],
      "source": []
    },
    {
      "cell_type": "markdown",
      "metadata": {
        "id": "ScIGuPtXAqOG"
      },
      "source": [
        "# 6.1 - Strings"
      ]
    },
    {
      "cell_type": "markdown",
      "metadata": {
        "id": "PMrOg2oPAqOG"
      },
      "source": [
        "## Métodos de strings"
      ]
    },
    {
      "cell_type": "code",
      "execution_count": null,
      "metadata": {
        "id": "F7xgLqbSAqOG"
      },
      "outputs": [],
      "source": [
        "string_pcdas = 'plataforma DE cieNcia de dAdos aplicada à saúde'"
      ]
    },
    {
      "cell_type": "code",
      "execution_count": null,
      "metadata": {
        "id": "dxaRU6IFAqOG"
      },
      "outputs": [],
      "source": [
        "string_pcdas[0]\n"
      ]
    },
    {
      "cell_type": "code",
      "execution_count": null,
      "metadata": {
        "id": "SGvMMFB6AqOH"
      },
      "outputs": [],
      "source": [
        "string_pcdas[0:4]\n"
      ]
    },
    {
      "cell_type": "code",
      "execution_count": null,
      "metadata": {
        "id": "X0btL25sAqOH"
      },
      "outputs": [],
      "source": [
        "print('Maiúsculo:', string_pcdas.upper())\n",
        "print()\n",
        "print('Minúsculo:', string_pcdas.lower())\n",
        "print()\n",
        "print('Primeira letra da frase:', string_pcdas.capitalize())\n",
        "print()\n",
        "print('Primeira letra de cada palavra:', string_pcdas.title())"
      ]
    },
    {
      "cell_type": "code",
      "execution_count": null,
      "metadata": {
        "id": "ZkjJBbrlAqOH"
      },
      "outputs": [],
      "source": [
        "if 'CIENCIA' in string_pcdas:\n",
        "    print(\"Valor encontrado\")\n",
        "else:\n",
        "    print(\"Valor não encontrado\")"
      ]
    },
    {
      "cell_type": "code",
      "execution_count": null,
      "metadata": {
        "id": "eofhxSoFAqOH"
      },
      "outputs": [],
      "source": [
        "if 'ciencia' in string_pcdas.lower():\n",
        "    print(\"Valor encontrado\")\n",
        "else:\n",
        "    print(\"Valor não encontrado\")"
      ]
    },
    {
      "cell_type": "code",
      "execution_count": null,
      "metadata": {
        "id": "kY50-F0TAqOH"
      },
      "outputs": [],
      "source": [
        "if 'for' in string_pcdas.lower():\n",
        "    print(\"Valor encontrado\")\n",
        "else:\n",
        "    print(\"Valor não encontrado\")"
      ]
    },
    {
      "cell_type": "code",
      "execution_count": null,
      "metadata": {
        "id": "IJMm1CuVAqOH"
      },
      "outputs": [],
      "source": [
        "string_frutas = 'banana,maçã,pera,kiwi,uva,morango'\n",
        "\n",
        "\n",
        "print(string_frutas.split())\n",
        "\n",
        "print(string_frutas.split(sep=','))"
      ]
    },
    {
      "cell_type": "code",
      "execution_count": null,
      "metadata": {
        "id": "jenyAjjQAqOH"
      },
      "outputs": [],
      "source": [
        "string_espacos = '  igor.morais@icict.fiocruz.br    '\n",
        "\n",
        "print(string_espacos)\n",
        "print(string_espacos.strip())"
      ]
    },
    {
      "cell_type": "code",
      "execution_count": null,
      "metadata": {
        "id": "mIDMGyedAqOH"
      },
      "outputs": [],
      "source": [
        "print(len(string_espacos))\n",
        "print(len(string_espacos.strip()))"
      ]
    },
    {
      "cell_type": "code",
      "execution_count": null,
      "metadata": {
        "id": "5EBhahoHAqOH"
      },
      "outputs": [],
      "source": [
        "num_string = '1,564'\n",
        "print(num_string.replace(',', '.'))"
      ]
    },
    {
      "cell_type": "code",
      "execution_count": null,
      "metadata": {
        "id": "8IwzmutqAqOI"
      },
      "outputs": [],
      "source": [
        "num_string = '1,564'\n",
        "float(num_string)"
      ]
    },
    {
      "cell_type": "code",
      "execution_count": null,
      "metadata": {
        "id": "kXsNPl6EAqOI"
      },
      "outputs": [],
      "source": [
        "num_string = '1,564'\n",
        "num_string = num_string.replace(',', '.')\n",
        "float(num_string)"
      ]
    },
    {
      "cell_type": "code",
      "execution_count": null,
      "metadata": {
        "id": "Pnl4Qd-cAqOI"
      },
      "outputs": [],
      "source": [
        "nome = \"Balthazar\"\n",
        "idade = 21\n",
        "print(f'Olá meu nome é {nome} e tenho {idade} anos.')"
      ]
    },
    {
      "cell_type": "markdown",
      "metadata": {
        "id": "KSzosl4UAqOI"
      },
      "source": [
        "# 6.2 - Listas"
      ]
    },
    {
      "cell_type": "markdown",
      "metadata": {
        "id": "G64ZzflaAqOI"
      },
      "source": [
        "## Subconjuntos de uma lista (acesso por índices e slice notation);"
      ]
    },
    {
      "cell_type": "code",
      "execution_count": null,
      "metadata": {
        "id": "dPPI8YqSAqOI"
      },
      "outputs": [],
      "source": [
        "lista_conteudos_do_curso = [\"introdução\", \"python\", \"listas\", \"funções\", 'pandas']\n",
        "print(lista_conteudos_do_curso)"
      ]
    },
    {
      "cell_type": "code",
      "execution_count": null,
      "metadata": {
        "id": "raHGQN9OAqOI"
      },
      "outputs": [],
      "source": [
        "lista_conteudos_do_curso[1]"
      ]
    },
    {
      "cell_type": "code",
      "execution_count": null,
      "metadata": {
        "id": "vi8GixhBAqOI"
      },
      "outputs": [],
      "source": [
        "lista_conteudos_do_curso[1:4]"
      ]
    },
    {
      "cell_type": "markdown",
      "metadata": {
        "id": "cLjhfPyPAqOI"
      },
      "source": [
        "### Adicionando um item à minha lista"
      ]
    },
    {
      "cell_type": "code",
      "execution_count": null,
      "metadata": {
        "id": "_Cfwst5VAqOI"
      },
      "outputs": [],
      "source": [
        "lista_conteudos_do_curso.append(\"graficos\")\n",
        "lista_conteudos_do_curso.append(\"Machine Learning\")\n",
        "\n",
        "print(lista_conteudos_do_curso)"
      ]
    },
    {
      "cell_type": "markdown",
      "metadata": {
        "id": "31l2AZeCAqOJ"
      },
      "source": [
        "### Removendo um item da minha lista"
      ]
    },
    {
      "cell_type": "code",
      "execution_count": null,
      "metadata": {
        "id": "fmN4z-bsAqOJ"
      },
      "outputs": [],
      "source": [
        "lista_conteudos_do_curso.remove(\"Machine Learning\")\n",
        "\n",
        "print(lista_conteudos_do_curso)"
      ]
    },
    {
      "cell_type": "code",
      "execution_count": null,
      "metadata": {
        "id": "cLj0K4TNAqOJ"
      },
      "outputs": [],
      "source": [
        "lista_conteudos_do_curso.pop(0)\n",
        "\n",
        "print(lista_conteudos_do_curso)"
      ]
    },
    {
      "cell_type": "markdown",
      "metadata": {
        "id": "-qvZuPiYAqOJ"
      },
      "source": [
        "#### Tamanho de uma lista"
      ]
    },
    {
      "cell_type": "code",
      "execution_count": null,
      "metadata": {
        "id": "BAAUiQdMAqOJ"
      },
      "outputs": [],
      "source": [
        "len(lista_conteudos_do_curso)"
      ]
    },
    {
      "cell_type": "markdown",
      "metadata": {
        "id": "iVDjAhJCKU-C"
      },
      "source": [
        "#7 - Dicionários"
      ]
    },
    {
      "cell_type": "markdown",
      "metadata": {
        "id": "Dn4gKFoQKZoi"
      },
      "source": [
        "Estou programando um sistema de agenda de contatos telefônicos em Python. Para isso, preciso armazenar os números dos contatos. A princípio, podemos pensar em usar uma lista:"
      ]
    },
    {
      "cell_type": "code",
      "execution_count": null,
      "metadata": {
        "id": "QcL8zSlHKX_S"
      },
      "outputs": [],
      "source": [
        "telefones = ['1234-5678', '9999-9999', '8765-4321', '8877-7788']"
      ]
    },
    {
      "cell_type": "markdown",
      "metadata": {
        "id": "SQlJKDrDKo55"
      },
      "source": [
        "Tudo bem, temos os números de telefone armazenados. Mas… qual o sentido de termos uma lista de números soltos? De quem é o número que está na segunda posição?\n",
        "\n",
        "Precisamos, de algum modo, conectar os telefones a seus respectivos contatos. Já conhecemos um tipo que pode nos ajudar com isso a tupla:"
      ]
    },
    {
      "cell_type": "code",
      "execution_count": null,
      "metadata": {
        "id": "uxKwU1bdKyqI"
      },
      "outputs": [],
      "source": [
        "contato = ('Yan', '1234-5678')\n"
      ]
    },
    {
      "cell_type": "markdown",
      "metadata": {
        "id": "u_fSQo9bKzl3"
      },
      "source": [
        "Para não precisarmos de uma variável para cada contato, podemos colocá-los direto em uma lista de contatos:"
      ]
    },
    {
      "cell_type": "code",
      "execution_count": null,
      "metadata": {
        "id": "m4rUbOrmK3cS"
      },
      "outputs": [],
      "source": [
        "contatos_lista = [('Yan', '1234-5678'), ('Pedro', '9999-9999'),\n",
        "                    ('Ana', '8765-4321'), ('Marina', '8877-7788')]"
      ]
    },
    {
      "cell_type": "markdown",
      "metadata": {
        "id": "s8Lk6hjkK7K4"
      },
      "source": [
        "Ok! Se quisermos acessar o número de telefone da Marina, podemos fazer:\n",
        "\n"
      ]
    },
    {
      "cell_type": "code",
      "execution_count": null,
      "metadata": {
        "id": "5-Hpr-0lLQb4"
      },
      "outputs": [],
      "source": [
        "print(contatos_lista[3][1])"
      ]
    },
    {
      "cell_type": "markdown",
      "metadata": {
        "id": "A-7JDR2rLYdq"
      },
      "source": [
        "Conseguimos! Agora, o número do Pedro: … Mas espera, qual é mesmo a posição do Pedro na nossa lista de contatos?\n",
        "\n",
        "Repare que do modo como está, mal faz diferença ter os nomes dos contatos salvos, porque só conseguimos acessar cada contato pela sua posição na lista. Será que não há um jeito melhor?"
      ]
    },
    {
      "cell_type": "markdown",
      "metadata": {
        "id": "_t3O6-CaLjf2"
      },
      "source": [
        "## Mapeando contatos com um dicionário"
      ]
    },
    {
      "cell_type": "markdown",
      "metadata": {
        "id": "xJ5UaeOQL09g"
      },
      "source": [
        "Até agora temos uma lista de contatos em que, ao menos, cada contato tem seu nome e telefone conectados. Entretanto, por enquanto, só conseguimos acessar um contato individualmente pela sua posição na lista, e não pelo seu próprio nome.\n",
        "\n",
        "O ideal seria mapear o nome de cada contato com seu telefone, evitando outros problemas.\n",
        "\n",
        "Por exemplo, podemos falar que o contato Yan tem o número de telefone 1234-5678. Assim, quando quisermos saber qual o n de telefone do Yan, basta ir até o seu nome. Dessa forma, não precisamos decorar qual a posição na lista que o telefone se encontra, basta sabermos seu nome de contato.\n",
        "\n",
        "Veja que, nesse caso, estamos criando uma espécie de dicionário, parecido com os dicionários de língua portuguesa, ou inglesa. Nesses dicionários, temos uma chave que é a palavra que estamos a buscar, que no nosso caso é o nome de contato.\n",
        "\n",
        "Quando achamos essa palavra, podemos ver o seu significado, isto é, o valor daquela palavra na língua, que no nosso caso, é o número de telefone.\n",
        "\n",
        "Esse tipo de estrutura é muito utilizado em diversas linguagens de programação (mas normalmente tem outro nome, como array associativo. Com ela, conseguimos ter um comportamento parecido com o de dicionários.\n",
        "\n",
        "Bem, vamos falar para o Python criar um desses dicionários para a gente. No Python, usamos chaves ({}) para construir nossos dicionários. Neste caso, falamos para o Python, que a chave 'Yan' possuí (:) o valor 1234-5678 como seu telefone:"
      ]
    },
    {
      "cell_type": "code",
      "execution_count": null,
      "metadata": {
        "id": "KWm1xe0rL5MN"
      },
      "outputs": [],
      "source": [
        "contatos = {'Yan': '1234-5678'}\n",
        "print(type(contatos))"
      ]
    },
    {
      "cell_type": "markdown",
      "metadata": {
        "id": "c8-sYXAUMD0d"
      },
      "source": [
        "E olha o tipo da variável contatos que acabamos de criar:\n",
        "\n",
        "<class 'dict'>\n",
        "\n",
        "dict - de fato um dicionário. Mas será que vamos ter que redigitar todos os dados de contatos que já colocamos em nossa lista de contatos? Também podemos criar um dicionário usando sua função construtora dict() e passando, como parâmetro, uma lista de tuplas, como em nosso caso:"
      ]
    },
    {
      "cell_type": "code",
      "execution_count": null,
      "metadata": {
        "id": "GRXUep7ZMLLh"
      },
      "outputs": [],
      "source": [
        "contatos_lista = [('Yan', '1234-5678'), ('Pedro', '9999-9999'),\n",
        "                    ('Ana', '8765-4321'), ('Marina', '8877-7788')]\n",
        "\n",
        "contatos = dict(contatos_lista)\n",
        "print(contatos)"
      ]
    },
    {
      "cell_type": "markdown",
      "metadata": {
        "id": "y-h6gxyqMS4l"
      },
      "source": [
        "Certo, temos nossa estrutura pronta! Mas espera aí, o nosso dicionário não está ordenado em ordem alfabética, ele não tem ordem nenhuma… Como podemos acessar seus itens?"
      ]
    },
    {
      "cell_type": "markdown",
      "metadata": {
        "id": "2bZNEOKNMYcd"
      },
      "source": [
        "## Acessando os itens de um dicionário"
      ]
    },
    {
      "cell_type": "markdown",
      "metadata": {
        "id": "D8Mt9vuXMdFo"
      },
      "source": [
        "Podemos acessar os valores dele de forma similar a como acessamos os valores de uma lista, por exemplo, com a diferença de que usamos as chaves que definimos no lugar dos índices numéricos:"
      ]
    },
    {
      "cell_type": "code",
      "execution_count": null,
      "metadata": {
        "id": "0u6ZlzZWMg4I"
      },
      "outputs": [],
      "source": [
        "print(contatos['Ana'])"
      ]
    },
    {
      "cell_type": "markdown",
      "metadata": {
        "id": "KzotVTUSMke7"
      },
      "source": [
        "Tudo bem! Até que, depois de um tempo, quis ver se eu encontrava o telefone de um velho amigo João. Fiz o seguinte:"
      ]
    },
    {
      "cell_type": "code",
      "execution_count": null,
      "metadata": {
        "id": "YyDpWI6sMsPC"
      },
      "outputs": [],
      "source": [
        "print(contatos['João'])"
      ]
    },
    {
      "cell_type": "markdown",
      "metadata": {
        "id": "Brrda2iXMybb"
      },
      "source": [
        "Hum… uma exceção de tipo KeyError indicando que a chave 'João' não foi encontrada. Mas é um pouco estranho imprimir toda essa mensagem para o usuário, não é? Pode ser confuso... Será que não podemos substituir isso?\n",
        "\n",
        "Os dicionários possuem um método específico para busca de valores, o get(), no qual podemos passar como parâmetros a chave que queremos e um valor padrão para retornar caso essa chave não seja encontrada:"
      ]
    },
    {
      "cell_type": "code",
      "execution_count": null,
      "metadata": {
        "id": "e00080pbM5_K"
      },
      "outputs": [],
      "source": [
        "print(contatos.get('Yan', 'Contato não encontrado'))\n",
        "print(contatos.get('João', 'Contato não encontrado'))"
      ]
    },
    {
      "cell_type": "markdown",
      "metadata": {
        "id": "glWPH16FM94p"
      },
      "source": [
        "Muito melhor agora!\n",
        "\n",
        "Também podemos verificar se um contato está em nosso dicionário através da palavra chave in:"
      ]
    },
    {
      "cell_type": "code",
      "execution_count": null,
      "metadata": {
        "id": "SVHUsJGPNBH4"
      },
      "outputs": [],
      "source": [
        "print('Yan' in contatos)"
      ]
    },
    {
      "cell_type": "markdown",
      "metadata": {
        "id": "hBAp1L8oNH0v"
      },
      "source": [
        "Como esperado!\n",
        "\n",
        "Esses dias, achei um número solto aqui e quis verificar se ele estava em minha agenda:"
      ]
    },
    {
      "cell_type": "code",
      "execution_count": null,
      "metadata": {
        "id": "2i6MLvPZNL8V"
      },
      "outputs": [],
      "source": [
        "print('9999-9999' in contatos)"
      ]
    },
    {
      "cell_type": "markdown",
      "metadata": {
        "id": "x-JcQtJgNM1J"
      },
      "source": [
        "Ué! Mas esse número está sim na agenda, é o número do Pedro! Por que será que o resultado foi False, então?\n",
        "\n",
        "Acontece que o in, usado dessa forma, verifica apenas as chaves do dicionário, não os valores. Para obtermos valores, podemos usar o método values():"
      ]
    },
    {
      "cell_type": "code",
      "execution_count": null,
      "metadata": {
        "id": "wrPlytLANSPV"
      },
      "outputs": [],
      "source": [
        "print('9999-9999' in contatos.values())"
      ]
    },
    {
      "cell_type": "markdown",
      "metadata": {
        "id": "9swVgLnkNVZZ"
      },
      "source": [
        "Agora sim! Temos nossa estrutura de mapeamento e já conseguimos visualizar os dados dela. Mas e agora, o que mais conseguimos fazer?"
      ]
    },
    {
      "cell_type": "markdown",
      "metadata": {
        "id": "36RWaZPqNcem"
      },
      "source": [
        "##Adicionando valores ao dicionário"
      ]
    },
    {
      "cell_type": "markdown",
      "metadata": {
        "id": "rd6E0Ad_NgKp"
      },
      "source": [
        "Encontrei meu amigo João e, finalmente, decidi adicionar o número dele na minha agenda. Mas… como posso fazer isso com nosso dicionário de contatos? Fui tentar usar um método append(), como nas listas, e olha o que apareceu:"
      ]
    },
    {
      "cell_type": "markdown",
      "metadata": {
        "id": "bU3MOTXnNxpO"
      },
      "source": [
        "Esse método não existe… Ainda tentei criar um outro dicionário e fazer uma soma, mas o resultado foi esse:\n",
        "\n",
        "Traceback (most recent call last):\n",
        "  File \"<stdin>\", line 1, in <module>\n",
        "\n",
        "TypeError: unsupported operand type(s) for +: 'dict' and 'dict'\n",
        "\n",
        "Também não funciona! A sintaxe de adicionar um item em um dicionário é um pouco diferente de que em outros tipos do Python, mas também bastante objetiva. Por exemplo, se queremos adicionar o João no nosso dicionário de contatos, basta atribuir seu telefone na chave 'João':"
      ]
    },
    {
      "cell_type": "code",
      "execution_count": null,
      "metadata": {
        "id": "-XGmM1-uOCry"
      },
      "outputs": [],
      "source": [
        "contatos['João'] = '8887-7778'\n",
        "print(contatos)"
      ]
    },
    {
      "cell_type": "markdown",
      "metadata": {
        "id": "Hsy_sHJeOL4J"
      },
      "source": [
        "Deu certo!"
      ]
    },
    {
      "cell_type": "markdown",
      "metadata": {
        "id": "lVISJByGOPm6"
      },
      "source": [
        "##Removendo itens do dicionário"
      ]
    },
    {
      "cell_type": "markdown",
      "metadata": {
        "id": "wnXms-1VOUxd"
      },
      "source": [
        "Infelizmente, minha amiga Marina perdeu o celular e, consequentemente, não era mais dona do número salvo em meu dicionário de contatos. Precisamos, agora, apagar o item que corresponde a ela. Mas como?\n",
        "\n",
        "Uma maneira simples é usando o statement del, dessa forma:"
      ]
    },
    {
      "cell_type": "code",
      "execution_count": null,
      "metadata": {
        "id": "-tGn6QfaOYL1"
      },
      "outputs": [],
      "source": [
        "del contatos['Marina']\n",
        "print(contatos)"
      ]
    },
    {
      "cell_type": "markdown",
      "metadata": {
        "id": "xyZPc6HTOcts"
      },
      "source": [
        "Certo! Mas e se tentarmos remover um item que não existe?"
      ]
    },
    {
      "cell_type": "code",
      "execution_count": null,
      "metadata": {
        "id": "Pyvrhz33Odni"
      },
      "outputs": [],
      "source": [
        "del contatos['Catarina']"
      ]
    },
    {
      "cell_type": "markdown",
      "metadata": {
        "id": "xwSLZTc6Ogwo"
      },
      "source": [
        "Um KeyError, como aquele que obtivemos ao tentar pegar um item que não existia! Para evitar essa exceção, também temos um método de dicionário que pode nos ajudar - o pop().\n",
        "\n",
        "O método pop(), além de remover o elemento com a chave especificada do dicionário, nos retorna o valor desse elemento. Também podemos definir um valor padrão de retorno, para caso a chave não seja encontrada:"
      ]
    },
    {
      "cell_type": "code",
      "execution_count": null,
      "metadata": {
        "id": "Y4wQ-ba7OmFv"
      },
      "outputs": [],
      "source": [
        "contatos = {'Yan': '1234-5678', 'Pedro': '9999-9999', 'Ana': '8765-4321',\n",
        "            'Marina': '8877-7788', 'João': '8887-7778'}\n",
        "\n",
        "print(contatos.pop('Marina', 'Contato não encontrado'))\n",
        "print(contatos.pop('Catarina', 'Contato não encontrado'))\n",
        "print()\n",
        "print(contatos)"
      ]
    },
    {
      "cell_type": "markdown",
      "metadata": {
        "id": "7ma3UMuhJsTv"
      },
      "source": [
        "##Crie uma lista que receba sua idade e sua altura e exiba na tela"
      ]
    },
    {
      "cell_type": "code",
      "execution_count": null,
      "metadata": {
        "id": "3JxNEWggJ3uv"
      },
      "outputs": [],
      "source": [
        "# Coloque aqui o seu "
      ]
    },
    {
      "cell_type": "markdown",
      "metadata": {
        "id": "mUPSk9H2vFYq"
      },
      "source": [
        "##Print"
      ]
    },
    {
      "cell_type": "markdown",
      "metadata": {
        "id": "ffbYclBUvFYq"
      },
      "source": [
        "Como vocês devem ter notado nos exemplo anteriores utilizamos o \"print\" para exibir algumas coisas na tela.\n",
        "O \"print\" é uma das muitas funções que temos no python, e a principal função dela é exibir o que chamamos de saída de dados.\n",
        "\n",
        "Normalmente utilizamos ele para exibir mensagens para o usuário final, mas ele também é uma boa ferramenta para testar se o seu código está se comportando como você planejou, te possibilitando exibir o conteúdo das variáveis enquanto o programa está funcionando(em tempo de execução).\n"
      ]
    },
    {
      "cell_type": "markdown",
      "metadata": {
        "id": "X3ojh1OhvFYq"
      },
      "source": [
        "## Exercícios"
      ]
    },
    {
      "cell_type": "markdown",
      "metadata": {
        "id": "WYpowSNBvFYq"
      },
      "source": [
        " ## Crie uma variável que receba seu nome e outra que receba seu e-mail e exiba ela na tela.\n",
        "\n"
      ]
    },
    {
      "cell_type": "code",
      "execution_count": null,
      "metadata": {
        "id": "ZaSe1dVgvFYq"
      },
      "outputs": [],
      "source": [
        "# Coloque aqui o seu código"
      ]
    },
    {
      "cell_type": "markdown",
      "metadata": {
        "id": "ABNecz6BvFYr"
      },
      "source": [
        "##Importar biblioteca"
      ]
    },
    {
      "cell_type": "markdown",
      "metadata": {
        "id": "XBOsb8tFvFYr"
      },
      "source": [
        "Uma das coisas que torna o python tão poderoso é a possibilidade de importar bibliotecas que possuem funções que não vem incluídas por padrão no python, mas podem ser incluídas conforme a sua necessidade.\n",
        "\n",
        "Como exemplo temos a biblioteca \"math\" que serve para fazer diversos cáculos matemáticos como por exemplo raiz quadrada.\n",
        "\n",
        "Veja o exemplo:"
      ]
    },
    {
      "cell_type": "code",
      "execution_count": null,
      "metadata": {
        "colab": {
          "base_uri": "https://localhost:8080/"
        },
        "id": "WSCbUTFfvFYr",
        "outputId": "e815b1d8-6dbc-4857-aeff-c2803961586e"
      },
      "outputs": [
        {
          "name": "stdout",
          "output_type": "stream",
          "text": [
            "2.0\n"
          ]
        }
      ],
      "source": [
        "import math \n",
        "\n",
        "print(math.sqrt(4))"
      ]
    },
    {
      "cell_type": "markdown",
      "metadata": {
        "id": "dmlIDBzHvFYr"
      },
      "source": [
        "##Exercício\n",
        "\n",
        "Use a biblioteca math para realizar a raiz quadrada de 25 e exibir na tela."
      ]
    },
    {
      "cell_type": "code",
      "execution_count": null,
      "metadata": {
        "id": "uayE2chovFYr"
      },
      "outputs": [],
      "source": [
        "##Escreva sua solução aqui"
      ]
    }
  ],
  "metadata": {
    "colab": {
      "collapsed_sections": [],
      "include_colab_link": true,
      "name": "programcao_python.ipynb",
      "provenance": [],
      "toc_visible": true
    },
    "interpreter": {
      "hash": "63fd5069d213b44bf678585dea6b12cceca9941eaf7f819626cde1f2670de90d"
    },
    "kernelspec": {
      "display_name": "Python 3.9.6 64-bit",
      "name": "python3"
    },
    "language_info": {
      "name": "python",
      "version": "3.9.6"
    }
  },
  "nbformat": 4,
  "nbformat_minor": 0
}
