{
  "nbformat": 4,
  "nbformat_minor": 0,
  "metadata": {
    "colab": {
      "name": "programcao_python.ipynb",
      "provenance": [],
      "collapsed_sections": [],
      "toc_visible": true,
      "include_colab_link": true
    },
    "kernelspec": {
      "name": "python3",
      "display_name": "Python 3"
    },
    "language_info": {
      "name": "python"
    }
  },
  "cells": [
    {
      "cell_type": "markdown",
      "metadata": {
        "id": "view-in-github",
        "colab_type": "text"
      },
      "source": [
        "<a href=\"https://colab.research.google.com/github/russel-franco-ey/empoderatech_aula_python/blob/main/programcao_python.ipynb\" target=\"_parent\"><img src=\"https://colab.research.google.com/assets/colab-badge.svg\" alt=\"Open In Colab\"/></a>"
      ]
    },
    {
      "cell_type": "markdown",
      "metadata": {
        "id": "Dz7PuXvc_OIo"
      },
      "source": [
        "1. Conceitos do Python\n",
        " 1. O que é o Python? geralmente é usado em que?\n",
        "\n",
        "2. Lógica de programação\n",
        " 1.   Exemplos do Daniel de fritar ovo\n",
        "\n",
        "3. Comandos básicos\n",
        "  1. Print()\n",
        "  2. Importar biblioteca\n",
        "  3. Importar biblioteca math e fazer contas\n",
        "\n",
        "4. Variáveis e Tipos de dados\n",
        " 1. int, float, string e boolean\n",
        "\n",
        "5. Condicionais\n",
        " 1. Exemplos do arquivo do Kelvin\n",
        "\n",
        "6. Listas\n",
        "\n",
        "7. Dicionários\n",
        "\n",
        "8. Laços\n",
        "\n",
        "9. test"
      ]
    }
  ]
}