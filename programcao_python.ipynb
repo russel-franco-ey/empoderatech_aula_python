{
  "nbformat": 4,
  "nbformat_minor": 0,
  "metadata": {
    "colab": {
      "name": "programcao_python.ipynb",
      "provenance": [],
      "collapsed_sections": [],
      "include_colab_link": true
    },
    "interpreter": {
      "hash": "63fd5069d213b44bf678585dea6b12cceca9941eaf7f819626cde1f2670de90d"
    },
    "kernelspec": {
      "display_name": "Python 3.9.6 64-bit",
      "name": "python3"
    },
    "language_info": {
      "name": "python",
      "version": "3.9.6"
    }
  },
  "cells": [
    {
      "cell_type": "markdown",
      "metadata": {
        "id": "view-in-github",
        "colab_type": "text"
      },
      "source": [
        "<a href=\"https://colab.research.google.com/github/russel-franco-ey/empoderatech_aula_python/blob/main/programcao_python.ipynb\" target=\"_parent\"><img src=\"https://colab.research.google.com/assets/colab-badge.svg\" alt=\"Open In Colab\"/></a>"
      ]
    },
    {
      "cell_type": "markdown",
      "metadata": {
        "id": "4HzPrs8DAuhC"
      },
      "source": [
        "#1 - Introdução ao Python"
      ]
    },
    {
      "cell_type": "markdown",
      "metadata": {
        "id": "DePi-BArBWsH"
      },
      "source": [
        "O Python é uma das linguagens de programação mais populares do mundo. Criado no início da década de 1990, ele tem uma ampla variedade de usos, desde automatizar tarefas repetitivas e escrever aplicativos Web até criar modelos de machine learning e implementar redes neurais. \n",
        "\n",
        "Cientistas de dados, matemáticos e pesquisadores em particular gostam do Python devido à sua sintaxe avançada e fácil de entender e à grande variedade de pacotes open-source disponíveis. Pacotes são bibliotecas de códigos compartilhados comumente usados disponíveis gratuitamente para qualquer pessoa.\n",
        "\n",
        "O Python tem uma sintaxe simples, fácil de aprender que enfatiza a legibilidade. Aplicativos escritos em Python podem ser executados em praticamente qualquer computador, incluindo aqueles que executam Windows, macOS e distribuições populares do Linux. Além disso, o ecossistema contém um conjunto avançado de ferramentas de desenvolvimento para escrever, depurar e publicar aplicativos do Python.\n",
        "\n",
        "Por fim, o Python tem o suporte de uma comunidade de usuários ativa que está ávida por ajudar novos programadores a aprender o estilo do Python, em que você não apenas acerta a sintaxe, mas usa a linguagem da maneira que ela foi projetada para ser usada."
      ]
    },
    {
      "cell_type": "markdown",
      "metadata": {
        "id": "6IDnFzV1YkdX"
      },
      "source": [
        "#2 - Lógica de Programação"
      ]
    },
    {
      "cell_type": "markdown",
      "metadata": {
        "id": "bkbcbgy-IewE"
      },
      "source": [
        "##Algoritmos\n"
      ]
    },
    {
      "cell_type": "markdown",
      "metadata": {
        "id": "tGSBrOuKIoNG"
      },
      "source": [
        "\n",
        "\n",
        "Conjunto das regras e procedimentos lógicos perfeitamente definidos que levam à solução de um problema em um número finito de etapas.\n",
        "\n",
        "**Mas o que isso quer dizer?**\n",
        "\n",
        "Quando vamos à padaria comprar pão francês, por exemplo, precisamos criar um algoritmo para executar tal ação. Nessa sequência, nós ordenamos os atos em uma sucessão que faça sentido e seja capaz de atingir o objetivo inicial, afinal de contas, não faz sentido algum primeiro sair à rua para depois voltar e pegar a carteira, por exemplo. É importante entender também que existe mais de um algoritmo capaz de solucionar o meu problema e, desde que ele funcione, não existe certo ou errado – mas o conceito de  mais ou menos eficiente é válido aqui.\n",
        "\n",
        "Seguem dois exemplos de sequências onde o intuito das duas é, no final, ter um ovo frito no prato.\n",
        "\n",
        "![Fritar Ovo - 1](https://labs.bluesoft.com.br/wp-content/uploads/2018/12/Captura-de-Tela-2018-12-07-a%CC%80s-10.51.39.png)\n",
        "\n",
        "![Fritar Ovo - 2](https://labs.bluesoft.com.br/wp-content/uploads/2018/12/Captura-de-Tela-2018-12-07-a%CC%80s-10.51.22.png)\n",
        "\n",
        "Enquanto o primeiro exemplo é mais cuidadoso e evita que a pessoa frite um ovo podre ou acabe espirrando óleo acidentalmente ao jogar o ovo na gordura quente,  por exemplo, a segunda é mais rápida e prática. As duas estão certas porque ambas conseguem chegar ao meu objetivo final, mas, talvez, a primeira seja mais eficiente por evitar problemas ao longo dos seus procedimentos."
      ]
    },
    {
      "cell_type": "markdown",
      "metadata": {
        "id": "EgV7TXS7JMdA"
      },
      "source": [
        "##O que são variáveis?\n",
        "\n",
        "Na matemática usamos variáveis para fazer contas por exemplo:\n",
        "\n",
        "x = 5 + 10\n",
        "\n",
        "x = 15\n",
        "\n",
        "No exemplo acima **x** é a variável e está sendo usada para armazenar algo que podemos usar depois.\n",
        "\n",
        "\n",
        "\n",
        "Na programação não é muito diferente disso, também usamos as variáveis para armazenar o que precisamos, como se fossem caixinhas para organizar tudo que vamos usar, e sabermos onde está."
      ]
    },
    {
      "cell_type": "code",
      "metadata": {
        "id": "nnp_dg-VQJpW",
        "outputId": "15e6e389-9add-456f-d75b-1a455e8ab76e",
        "colab": {
          "base_uri": "https://localhost:8080/"
        }
      },
      "source": [
        "numero = 5 + 10\n",
        "\n",
        "print(numero)"
      ],
      "execution_count": 2,
      "outputs": [
        {
          "output_type": "stream",
          "name": "stdout",
          "text": [
            "15\n"
          ]
        }
      ]
    },
    {
      "cell_type": "code",
      "metadata": {
        "colab": {
          "base_uri": "https://localhost:8080/"
        },
        "id": "tpMkuoO6JSEA",
        "outputId": "9fb72533-53a2-4758-d993-0325994b0633"
      },
      "source": [
        "caixa_de_sapatos = 15\n",
        "\n",
        "\n",
        "print(caixa_de_sapatos)"
      ],
      "execution_count": 13,
      "outputs": [
        {
          "output_type": "stream",
          "name": "stdout",
          "text": [
            "15\n"
          ]
        }
      ]
    },
    {
      "cell_type": "markdown",
      "metadata": {
        "id": "ATHh4kkzJS6V"
      },
      "source": [
        "No exemplo acima estamos guardando **\"Sapatos\"** na variável **caixa_de_sapatos** e **\"Camisas\"** na variável **caixa_de_camisas**\n",
        "\n",
        "\n",
        "\n",
        "Cada variável só aceita uma coisa de cada vez, se eu quiser botar **\"Sapatos\"** na variável **caixa_de_camisas** não vai sobrar mais espaço para as **\"Camisas\"**. \n",
        "\n",
        "Veja o exemplo:\n",
        "\n"
      ]
    },
    {
      "cell_type": "code",
      "metadata": {
        "id": "9W_1JJU-vFYe"
      },
      "source": [
        ""
      ],
      "execution_count": null,
      "outputs": []
    },
    {
      "cell_type": "code",
      "metadata": {
        "colab": {
          "base_uri": "https://localhost:8080/"
        },
        "id": "NJSyDtOwJYQH",
        "outputId": "a40ba8b2-9dc7-4add-b1c4-674681a2a850"
      },
      "source": [
        "caixa_de_sapatos = \"Camisas\"\n",
        "print(caixa_de_sapatos)"
      ],
      "execution_count": null,
      "outputs": [
        {
          "name": "stdout",
          "output_type": "stream",
          "text": [
            "Camisas\n"
          ]
        }
      ]
    },
    {
      "cell_type": "markdown",
      "metadata": {
        "id": "0vuy4R2uZIJg"
      },
      "source": [
        "#3 - Comandos Básicos"
      ]
    },
    {
      "cell_type": "markdown",
      "metadata": {
        "id": "uXJFRUZ3ZMTf"
      },
      "source": [
        "##Print"
      ]
    },
    {
      "cell_type": "markdown",
      "metadata": {
        "id": "AH27-lcDZqTd"
      },
      "source": [
        "Como vocês devem ter notado nos exemplo anteriores utilizamos o \"print\" para exibir algumas coisas na tela.\n",
        "O \"print\" é uma das muitas funções que temos no python, e a principal função dela é exibir o que chamamos de saída de dados.\n",
        "\n",
        "Normalmente utilizamos ele para exibir mensagens para o usuário final, mas ele também é uma boa ferramenta para testar se o seu código está se comportando como você planejou, te possibilitando exibir o conteúdo das variáveis enquanto o programa está funcionando(em tempo de execução).\n"
      ]
    },
    {
      "cell_type": "code",
      "metadata": {
        "id": "70YUdPf0S1yi",
        "outputId": "407a43d8-9bda-4deb-b77b-323f1ac35dac",
        "colab": {
          "base_uri": "https://localhost:8080/"
        }
      },
      "source": [
        "caixa_de_fruta1 = \"b\"\n",
        "\n",
        "print(\"Passo 1:\" + caixa_de_fruta1)\n",
        "\n",
        "caixa_de_fruta2 = caixa_de_fruta1 + \"ana\"\n",
        "\n",
        "print(\"Passo 2:\" + caixa_de_fruta2)\n",
        "\n",
        "caixa_de_fruta4 = caixa_de_fruta2 + \"na\"\n",
        "\n",
        "print(\"Final:\" + caixa_de_fruta4)"
      ],
      "execution_count": 29,
      "outputs": [
        {
          "output_type": "stream",
          "name": "stdout",
          "text": [
            "Passo 1:b\n",
            "Passo 2:bana\n",
            "Final:banana\n"
          ]
        }
      ]
    },
    {
      "cell_type": "markdown",
      "metadata": {
        "id": "MjIx1SFvvUwq"
      },
      "source": [
        "##Type"
      ]
    },
    {
      "cell_type": "markdown",
      "metadata": {
        "id": "KKoRuX5evmSv"
      },
      "source": [
        "A função type exibe o tipo de um valor ou variável. O valor ou variável, que é chamado de argumento da função, tem que vir entre parênteses. \n",
        "É comum se dizer que uma função ‘recebe’ um valor ou mais valores e ‘retorna’ um resultado. O resultado é chamado de valor de retorno.\n",
        "\n"
      ]
    },
    {
      "cell_type": "code",
      "metadata": {
        "colab": {
          "base_uri": "https://localhost:8080/"
        },
        "id": "6a-XIbEIv2gT",
        "outputId": "ffc59638-c2b7-4745-f33a-ff4c03b528d9"
      },
      "source": [
        "x = True\n",
        "\n",
        "tipo = type(x)\n",
        "\n",
        "print(tipo)"
      ],
      "execution_count": 37,
      "outputs": [
        {
          "output_type": "stream",
          "name": "stdout",
          "text": [
            "<class 'bool'>\n"
          ]
        }
      ]
    },
    {
      "cell_type": "markdown",
      "metadata": {
        "id": "sBjsupGmJbyI"
      },
      "source": [
        "## Exercícios"
      ]
    },
    {
      "cell_type": "markdown",
      "metadata": {
        "id": "Xgg5CNy_Jghh"
      },
      "source": [
        " ## Crie uma variável que receba seu nome e outra que receba seu e-mail e exiba ela na tela.\n",
        "\n"
      ]
    },
    {
      "cell_type": "code",
      "metadata": {
        "id": "YNT1AGM_JoU8",
        "outputId": "f44814a3-6ac3-44f4-af89-a34a2e1c6466",
        "colab": {
          "base_uri": "https://localhost:8080/"
        }
      },
      "source": [
        "#Aqui vai meu nome\n",
        "nOme = \"Russel Franco\"\n",
        "\n",
        "#Aqui vai meu email\n",
        "emAil = \"russelfranco@gmail.com\"\n",
        "\n",
        "#Aqui eu exibo meus dados\n",
        "print(nOme)\n",
        "print(emAil)"
      ],
      "execution_count": 45,
      "outputs": [
        {
          "output_type": "stream",
          "name": "stdout",
          "text": [
            "Russel Franco\n",
            "russelfranco@gmail.com\n"
          ]
        }
      ]
    },
    {
      "cell_type": "code",
      "metadata": {
        "id": "Q_Na8f37bYbz",
        "outputId": "c4376040-68b2-4852-9af5-2c5c6326ff29",
        "colab": {
          "base_uri": "https://localhost:8080/"
        }
      },
      "source": [
        "'''\n",
        "Neste exemplo irei mostrar\n",
        "como\n",
        "funciona\n",
        "os comentários de múltimplas linhas\n",
        "\n",
        "print(123)\n",
        "\n",
        "'''\n",
        "\n",
        "print(\"Texto\")"
      ],
      "execution_count": 49,
      "outputs": [
        {
          "output_type": "stream",
          "name": "stdout",
          "text": [
            "Texto\n"
          ]
        }
      ]
    },
    {
      "cell_type": "markdown",
      "metadata": {
        "id": "BzaWjB00cHPx"
      },
      "source": [
        "##Importar biblioteca"
      ]
    },
    {
      "cell_type": "markdown",
      "metadata": {
        "id": "NYlqvy6WcMip"
      },
      "source": [
        "Uma das coisas que torna o python tão poderoso é a possibilidade de importar bibliotecas que possuem funções que não vem incluídas por padrão no python, mas podem ser incluídas conforme a sua necessidade.\n",
        "\n",
        "Como exemplo temos a biblioteca \"math\" que serve para fazer diversos cáculos matemáticos como por exemplo raiz quadrada.\n",
        "\n",
        "Veja o exemplo:"
      ]
    },
    {
      "cell_type": "code",
      "metadata": {
        "colab": {
          "base_uri": "https://localhost:8080/"
        },
        "id": "Tv4eSJ0Qct9e",
        "outputId": "a8fa32c3-173d-43b3-9a85-0250a391b829"
      },
      "source": [
        "import math \n",
        "\n",
        "x = math.sqrt(4)\n",
        "\n",
        "print(x)"
      ],
      "execution_count": 50,
      "outputs": [
        {
          "output_type": "stream",
          "name": "stdout",
          "text": [
            "2.0\n"
          ]
        }
      ]
    },
    {
      "cell_type": "markdown",
      "metadata": {
        "id": "pyHJcFdBd8jv"
      },
      "source": [
        "##Exercício\n",
        "\n",
        "Use a biblioteca math para realizar a raiz quadrada de 25 e exibir na tela."
      ]
    },
    {
      "cell_type": "code",
      "metadata": {
        "id": "XSJlMggYeLLl",
        "outputId": "bfd8e640-1cad-47f1-dbc5-72a9aac7e9d6",
        "colab": {
          "base_uri": "https://localhost:8080/"
        }
      },
      "source": [
        "##Escreva sua solução aqui\n",
        "import math\n",
        "\n",
        "raiz_quadrada = math.sqrt(25)\n",
        "\n",
        "print(raiz_quadrada)\n",
        "\n"
      ],
      "execution_count": 52,
      "outputs": [
        {
          "output_type": "stream",
          "name": "stdout",
          "text": [
            "5.0\n"
          ]
        }
      ]
    },
    {
      "cell_type": "markdown",
      "metadata": {
        "id": "4VvD7edtwcdS"
      },
      "source": [
        "# 4 - Variáveis e Tipos de dados"
      ]
    },
    {
      "cell_type": "markdown",
      "metadata": {
        "id": "IeXfoN9mAqOA"
      },
      "source": [
        "Python possui vários tipos básicos ou fundamentais: números inteiros, números de ponto flutuante, booleanos, números complexos, cadeias de caracteres, etc.\n",
        "\n",
        "##Números inteiros\n",
        "\n",
        "Os tipos de variáveis em Python são inferidos automaticamente pelo interpretador, sem que haja a necessidade de se especificar o tipo da variável no momento de sua declaração. Os exemplos abaixo deixarão esses conceitos mais claros."
      ]
    },
    {
      "cell_type": "code",
      "metadata": {
        "id": "snYfu5LeAqOB",
        "outputId": "bbe05fad-bdc3-45fd-9055-398960fc291f",
        "colab": {
          "base_uri": "https://localhost:8080/"
        }
      },
      "source": [
        "# Números inteiros\n",
        "x = 1\n",
        "y = 2\n",
        "resultado = x + y\n",
        "print(resultado)\n",
        "print(type(resultado)) "
      ],
      "execution_count": 53,
      "outputs": [
        {
          "output_type": "stream",
          "name": "stdout",
          "text": [
            "3\n",
            "<class 'int'>\n"
          ]
        }
      ]
    },
    {
      "cell_type": "markdown",
      "metadata": {
        "id": "i_LZRw9TAqOB"
      },
      "source": [
        "\n",
        "\n",
        "##Números de ponto flutuante\n",
        "\n",
        "Se o nome ponto flutuante te assusta, não se preocupe. Números de ponto flutuante nada mais são que números com vírgula, ou como costumamos dizer \"números quebrados\", constrastando com os números inteiros com os quais estamos mais acostumados. Vejamos alguns exemplos de expressões com números de ponto flutuante."
      ]
    },
    {
      "cell_type": "code",
      "metadata": {
        "id": "ri2q4pBfAqOB",
        "outputId": "4dd55b45-7937-418a-9445-63aea0e978c3",
        "colab": {
          "base_uri": "https://localhost:8080/"
        }
      },
      "source": [
        "# Números de ponto flutuante\n",
        "x = 1.1\n",
        "y = 2.2\n",
        "resultado = x + y\n",
        "print(resultado)\n",
        "print(type(resultado))"
      ],
      "execution_count": 54,
      "outputs": [
        {
          "output_type": "stream",
          "name": "stdout",
          "text": [
            "3.3000000000000003\n",
            "<class 'float'>\n"
          ]
        }
      ]
    },
    {
      "cell_type": "markdown",
      "metadata": {
        "id": "doXxhRnHAqOB"
      },
      "source": [
        "É importante notar que se pelo menos um dos valores envolvidos em uma expressão numérica for um número de ponto flutuante, o retultado da expressão também será um número de ponto flutuante, como mostrado no exemplo abaixo."
      ]
    },
    {
      "cell_type": "code",
      "metadata": {
        "id": "HTMqSQDoAqOB",
        "outputId": "3f592b97-ae1d-4886-83cd-485e20c01ae4",
        "colab": {
          "base_uri": "https://localhost:8080/"
        }
      },
      "source": [
        "x = 10\n",
        "y = 2.5\n",
        "resultado = x * y\n",
        "print(resultado)\n",
        "print(type(resultado))"
      ],
      "execution_count": 55,
      "outputs": [
        {
          "output_type": "stream",
          "name": "stdout",
          "text": [
            "25.0\n",
            "<class 'float'>\n"
          ]
        }
      ]
    },
    {
      "cell_type": "markdown",
      "metadata": {
        "id": "283G6MgKAqOC"
      },
      "source": [
        "## Strings ou cadeias de caracteres"
      ]
    },
    {
      "cell_type": "markdown",
      "metadata": {
        "id": "F1OF-HfrAqOC"
      },
      "source": [
        "Strings nada mais são do que sequências (cadeias) de caracteres. Em outras palavras, uma string é simplesmente uma sequência de zero ou mais letras juntas. Vejamos alguns exemplos."
      ]
    },
    {
      "cell_type": "code",
      "metadata": {
        "id": "TAAPaxrcAqOC",
        "outputId": "97798ac3-0169-4d50-f70a-5d02e8cf48a2",
        "colab": {
          "base_uri": "https://localhost:8080/"
        }
      },
      "source": [
        "string_vazia = ''\n",
        "uma_letra = 'a'\n",
        "varias_letras = 'abacate'\n",
        "print(type(string_vazia))\n",
        "print(type(uma_letra))\n",
        "print(type(varias_letras))"
      ],
      "execution_count": 56,
      "outputs": [
        {
          "output_type": "stream",
          "name": "stdout",
          "text": [
            "<class 'str'>\n",
            "<class 'str'>\n",
            "<class 'str'>\n"
          ]
        }
      ]
    },
    {
      "cell_type": "markdown",
      "metadata": {
        "id": "AmdizxMpAqOC"
      },
      "source": [
        "\n",
        "\n",
        "Você deve ter percebido que nos exemplos acima, a sequência de letras das strings aparece entre aspas simples. Em Python, assim como em outras linguagens, precisamos das aspas para declarar uma variável do tipo string. Tanto aspas simples quanto aspas duplas funcionam. A razão da necessidade das aspas é simples: elas diferenciam uma declaração de uma variável do string de uma atribuição entre duas variáveis. O exemplo abaixo vai deixar isso mais claro."
      ]
    },
    {
      "cell_type": "code",
      "metadata": {
        "id": "HRD6dN86ywt6",
        "outputId": "13b4baa8-c7fd-4390-e9af-262c0ec52c76",
        "colab": {
          "base_uri": "https://localhost:8080/"
        }
      },
      "source": [
        "v = 'var' \n",
        "s = v \n",
        "print(v)\n",
        "print(s)"
      ],
      "execution_count": 58,
      "outputs": [
        {
          "output_type": "stream",
          "name": "stdout",
          "text": [
            "var\n",
            "var\n"
          ]
        }
      ]
    },
    {
      "cell_type": "markdown",
      "metadata": {
        "id": "jHz-rag3weYO"
      },
      "source": [
        "####Valores booleanos\n",
        "* Um booleano (ou tipo ***bool***), em ciência da computação, é um tipo de dado lógico que pode ter apenas um de dois valores possíveis: verdadeiro ou falso. Em Python, condicionais booleanas são usadas para decidir quais trechos do código serão executados ou repetidas. Esses valores são úteis para representar, por exemplo, o resultado de uma comparação. Experimente:"
      ]
    },
    {
      "cell_type": "code",
      "metadata": {
        "colab": {
          "base_uri": "https://localhost:8080/"
        },
        "id": "EH1Qg5kNkygP",
        "outputId": "62d5bcd5-cdc1-4f08-f82d-42277891f5ec"
      },
      "source": [
        "# Criando as variáveis\n",
        "a = 5\n",
        "b = 6\n",
        "print(\"Valor de a: \", a)\n",
        "print(\"Valor de b: \", b)"
      ],
      "execution_count": 59,
      "outputs": [
        {
          "output_type": "stream",
          "name": "stdout",
          "text": [
            "Valor de a:  5\n",
            "Valor de b:  6\n"
          ]
        }
      ]
    },
    {
      "cell_type": "code",
      "metadata": {
        "colab": {
          "base_uri": "https://localhost:8080/"
        },
        "id": "nsQVN2yGzkgD",
        "outputId": "b941565f-e564-4c2b-f1ad-c3d6be4a4f9f"
      },
      "source": [
        "c = a < b   # c mostra o valor comparado entre a < b\n",
        "print(\"Valor de c: \", c)"
      ],
      "execution_count": 60,
      "outputs": [
        {
          "output_type": "stream",
          "name": "stdout",
          "text": [
            "Valor de c:  True\n"
          ]
        }
      ]
    },
    {
      "cell_type": "code",
      "metadata": {
        "colab": {
          "base_uri": "https://localhost:8080/"
        },
        "id": "UfB6mdmrzkoB",
        "outputId": "e49b416a-8aad-4b46-e9e2-3f45a88c99fd"
      },
      "source": [
        "d = a > b   # d mostra o valor comparado entre a > b\n",
        "print(\"Valor de d: \", d)"
      ],
      "execution_count": 61,
      "outputs": [
        {
          "output_type": "stream",
          "name": "stdout",
          "text": [
            "Valor de d:  False\n"
          ]
        }
      ]
    },
    {
      "cell_type": "code",
      "metadata": {
        "colab": {
          "base_uri": "https://localhost:8080/"
        },
        "id": "6xGzeaeZzoNK",
        "outputId": "c663ce07-0f54-4965-d134-29132f6bf1d6"
      },
      "source": [
        "e = a == b  # e mostra o valor comparado entre a == b\n",
        "print(\"Valor de e: \", e)"
      ],
      "execution_count": 62,
      "outputs": [
        {
          "output_type": "stream",
          "name": "stdout",
          "text": [
            "Valor de e:  False\n"
          ]
        }
      ]
    },
    {
      "cell_type": "code",
      "metadata": {
        "id": "FIBb4N8hj-oS",
        "outputId": "3d96ff9d-5587-4688-b13c-7ad9d0b809f5",
        "colab": {
          "base_uri": "https://localhost:8080/"
        }
      },
      "source": [
        "a = True\n",
        "\n",
        "true = True\n",
        "\n",
        "true = \"True\"\n",
        "\n",
        "type(true)"
      ],
      "execution_count": 70,
      "outputs": [
        {
          "output_type": "execute_result",
          "data": {
            "text/plain": [
              "str"
            ]
          },
          "metadata": {},
          "execution_count": 70
        }
      ]
    },
    {
      "cell_type": "markdown",
      "metadata": {
        "id": "kF2VxZbXpz1U"
      },
      "source": [
        "Fiquem atentos que True e False não são a mesma coisa que strings (Textos ou Frase), esses valores são do tipo `Bool` e são usados para expressa um valor de verdade (Verdadeiro ou Falso), portanto `True`(**Bool**) não é a mesma coisa que \"True\"(**String**)."
      ]
    },
    {
      "cell_type": "markdown",
      "metadata": {
        "id": "twVBmiy0nSyV"
      },
      "source": [
        "####Operadores e expressões lógicas\n",
        "Assim como expressões aritméticas podem ser formadas por operadores aritméticos (como 2 + 3 * 4), expressões lógicas são formadas por operadores lógicos. Para construir expressões lógicas usando operadores lógicos será possivel utilizar três operadores lógicos: and, or e not. O significado desses operadores é bastante intuitivo, uma vez que ele equivale à interpretação que fazemos deles na língua inglesa (`and` = E | `or` = Ou | `not` = Não ).\n",
        "\n",
        "1. **Operador** `and`\n",
        "<p> Dados dois valores booleanos A e B, o operador lógico and resulta em True apenas quando A e B foram ambos True, e retorna False caso contrário.\n",
        "\n",
        "Execute o programa e veja o resultado, em seguida troque o valor `False` por `True` e execute novamente:"
      ]
    },
    {
      "cell_type": "code",
      "metadata": {
        "colab": {
          "base_uri": "https://localhost:8080/"
        },
        "id": "M3VV_4TSo8TA",
        "outputId": "a1fbf02d-e81c-46ba-f3ad-152c7839c627"
      },
      "source": [
        "C = False\n",
        "D = False # Após rodar uma primeira vez, troque este valor de False para True e execute novamente.\n",
        "print (\"Os valores de C e D são: \", C and D) # Comparação lógica entre as duas variaveis."
      ],
      "execution_count": 71,
      "outputs": [
        {
          "output_type": "stream",
          "name": "stdout",
          "text": [
            "Os valores de C e D são:  False\n"
          ]
        }
      ]
    },
    {
      "cell_type": "code",
      "metadata": {
        "id": "9vlmR56Sm9Zp",
        "outputId": "5e8ddc70-b480-4c42-e0a1-082a83fa7edb",
        "colab": {
          "base_uri": "https://localhost:8080/"
        }
      },
      "source": [
        "c =  True\n",
        "\n",
        "print(c)"
      ],
      "execution_count": 74,
      "outputs": [
        {
          "output_type": "stream",
          "name": "stdout",
          "text": [
            "True\n"
          ]
        }
      ]
    },
    {
      "cell_type": "markdown",
      "metadata": {
        "id": "uMc_PUOE2uXQ"
      },
      "source": [
        "2. **Operador** `or`\n",
        "<p>Dados dois valores booleanos A e B, o operador lógico `or` resulta em `False` apenas quando A e B foram ambos False, e retorna True caso contrário.\n",
        "\n",
        "Execute o programa e veja o resultado, em seguida troque o valor `True` por `False` e execute novamente:"
      ]
    },
    {
      "cell_type": "code",
      "metadata": {
        "colab": {
          "base_uri": "https://localhost:8080/"
        },
        "id": "On3r-lIH2_Mo",
        "outputId": "0eb8d9df-4dd4-4002-96e6-6a9e78994145"
      },
      "source": [
        "A = True # Após rodar uma primeira vez, troque este valor de True para False e execute novamente.\n",
        "B = False\n",
        "print (\"Os valores de A ou B são: \", A or B)"
      ],
      "execution_count": null,
      "outputs": [
        {
          "name": "stdout",
          "output_type": "stream",
          "text": [
            "Os valores de A ou B são:  True\n"
          ]
        }
      ]
    },
    {
      "cell_type": "markdown",
      "metadata": {
        "id": "ML8222Jy4ckT"
      },
      "source": [
        "Aqui temos uma tabela que mostra como é feito a comparação utilizando o operador `or` para todas as combinações de A e B:\n",
        "\n",
        "or\t      |A = True |\tA = False\n",
        ":------   |:-----:  |:----:\n",
        "B = True  |True\t    |True\n",
        "B = False |True\t    |False"
      ]
    },
    {
      "cell_type": "markdown",
      "metadata": {
        "id": "OLYPS-KF7ibo"
      },
      "source": [
        "3. **Operador** `not`\n",
        "<p> O operador lógico not muda o valor de seu argumento, ou seja, se `not` for igual a `True`, então ele responde como `False` e se `not` for igual a `False` ele responde como `True`."
      ]
    },
    {
      "cell_type": "markdown",
      "metadata": {
        "id": "wfeSptxQwnPv"
      },
      "source": [
        "# 5 - Condicionais"
      ]
    },
    {
      "cell_type": "markdown",
      "metadata": {
        "id": "taxI6yc5-3V1"
      },
      "source": [
        "####Estruturas Condicionais\n",
        "\n",
        "Neste tópico falaremos sobre as estruturas condicionais em Python, mas antes de exibir um exemplo de estrutura condicional no Python, vamos a um pouco de teoria. Uma Estrutura de Condição, como o próprio nome já diz, verifica a condição dos argumentos passados e, executa um comando caso a condição seja verdadeira, como se pode ver no algorítimo abaixo:\n",
        "\n",
        "`SE condição (SE = IF)`\n",
        "<br>`ENTÃO comando`\n",
        "\n",
        "Na estrutura em Python vamos começar conhecendo os Operadores Condicionais do Python. Os Operadores Condicionais são utilizados para fazer as comparações dos valores que são passados e retornam o valor Verdadeiro ou Falso.\n",
        "\n",
        "Operador|\tTipo|\tValor\n",
        "---|---|---\n",
        "==|\tIgualdade|\tVerifica a igualdade entre dois valores.\n",
        "!=|  \tIgualdade|  \tVerifica a diferença entre dois valores.\n",
        ">| \tComparação|\tVerificar se o valor A é maior que o valor B.\n",
        "<| \tComparação|\tVerifica se o valor A é menor que o valor B.\n",
        ">=|\tComparação|\tVerifica se o valor A é maior ou igual ao valor B.\n",
        "<=|\tComparação|\tVerifica se o valor A é menor ou igual ao valor B.\n",
        "In|\tSeqüência|\tVerifica se o valor A está contido em um conjunto."
      ]
    },
    {
      "cell_type": "markdown",
      "metadata": {
        "id": "dUdlVgaxAbFz"
      },
      "source": [
        "1. Estrutura Condicional Simples\n",
        "<p>Agora que já conhecemos os Operadores vamos ver como fazer uma estrutura condicional em Python. Incrementando o nosso exemplo do artigo anterior, iremos verificar se a soma dos valores que o usuário informou é maior que zero e exibir o resultado na tela.\n",
        "\n",
        "Abaixo podemos perceber a estrutura do condicional IF, execute o programa e veja o resultado, em seguida troque o valor da váriavel `valor` de **0** por **1** e execute novamente:"
      ]
    },
    {
      "cell_type": "code",
      "metadata": {
        "id": "xQqke1mJAeBM"
      },
      "source": [
        "valor = 0\n",
        "\n",
        "if valor > 0:\n",
        "     print (\"Maior que Zero.\")"
      ],
      "execution_count": 76,
      "outputs": []
    },
    {
      "cell_type": "markdown",
      "metadata": {
        "id": "qjH4u1poBHiS"
      },
      "source": [
        "Veja que quando foi executado o comando com a váriavel `valor` em valor **0**, o sistema não retornou absolutamente nada, pois como a comparação exige que a variável seja de número maior que **0** então enquanto o valor for este o sistema entenderá como valor booleano `False`, e se você alterar a váriavel `valor` para valor maior que **0** seja 1,2,3 etc, o sistema entenderá que a comparação é verdadeira ou seja `True`, pois a váriavel é maior que **0**."
      ]
    },
    {
      "cell_type": "markdown",
      "metadata": {
        "id": "mqL7TUFhCRwC"
      },
      "source": [
        "2. Estrutura Condicional Composta\n",
        "<p>A Estrutura Condicional Composta executa um comando quando a condição for verdadeira e outra condição quando for falsa. Vamos melhorar o nosso exemplo anterior, agora teremos que mostrar a mensagem **\"Menor que Zero\"** caso o resultado da soma seja menor que zero, como podemos ver abaixo:"
      ]
    },
    {
      "cell_type": "code",
      "metadata": {
        "colab": {
          "base_uri": "https://localhost:8080/"
        },
        "id": "cfH3mdGyCsZx",
        "outputId": "7054545c-3110-42c2-cf16-0f83460f3362"
      },
      "source": [
        "valor = 0\n",
        "\n",
        "if valor > 1:\n",
        "     print (\"Maior que um.\")\n",
        "else:\n",
        "     print (\"Menor que um.\")"
      ],
      "execution_count": 78,
      "outputs": [
        {
          "output_type": "stream",
          "name": "stdout",
          "text": [
            "Menor que um.\n"
          ]
        }
      ]
    },
    {
      "cell_type": "markdown",
      "metadata": {
        "id": "bGnAfiLfC2R9"
      },
      "source": [
        "Agora usando uma Estrutura Condicional Composta, vemos que há resultado para ambos valores tanto como igual a **0** como também valores maiores que **0**."
      ]
    },
    {
      "cell_type": "markdown",
      "metadata": {
        "id": "1BLsnDPdDIT-"
      },
      "source": [
        "3. Estrutura Condicional Encadeadas\n",
        "<p>Estruturas Condicionais Encadeadas é usada quando precisamos verificar mais de uma condição, ou seja, um IF dentro de outro IF. Uma outra estrutura encadeada é como pode-se notar abaixo. Incrementando o nosso exemplo, agora teremos que exibir uma mensagem caso o valor seja igual a Zero."
      ]
    },
    {
      "cell_type": "code",
      "metadata": {
        "colab": {
          "base_uri": "https://localhost:8080/"
        },
        "id": "QqZmLcfIDOyC",
        "outputId": "603e9a27-f65c-4974-be9b-c12c5b96566b"
      },
      "source": [
        "valor = 5\n",
        "\n",
        "if valor > 4:\n",
        "     print (\"Maior que Quatro.\")\n",
        "\n",
        "elif valor > 3:\n",
        "     print (\"Maior que Três.\")\n",
        "\n",
        "elif valor > 2:\n",
        "     print (\"Maior que Dois.\")\n",
        "\n",
        "elif valor > 1:\n",
        "     print (\"Maior que Um.\")\n",
        "\n",
        "else:\n",
        "     print (\"Menor que Um.\")"
      ],
      "execution_count": null,
      "outputs": [
        {
          "name": "stdout",
          "output_type": "stream",
          "text": [
            "Menor que Um.\n"
          ]
        }
      ]
    },
    {
      "cell_type": "markdown",
      "metadata": {
        "id": "qACYEXFCDbqa"
      },
      "source": [
        "Neste exemplo podemos perceber um comando diferente, o elif. Este comando é a junção do comando ELSE+IF(SENÂOSE traduzindo para o português) que é utilizado nas Estruturas Condicionais Encadeadas. <p>Cada condição é verificada em ordem. Se a primeira for falsa, a próxima é verificada, e assim por diante. Se uma delas for verdadeira, o ramo correspondente é executado e a instrução é encerrada. Mesmo se mais de uma condição for verdade, só o primeiro ramo verdadeiro é executado."
      ]
    },
    {
      "cell_type": "markdown",
      "metadata": {
        "id": "FEXUgqJqFwtp"
      },
      "source": [
        "4. Estrutura Condicional Aninhadas\n",
        "<p>Uma condicional também pode ser aninhada dentro de outra. Poderíamos ter escrito o exemplo na seção anterior desta forma:"
      ]
    },
    {
      "cell_type": "code",
      "metadata": {
        "colab": {
          "base_uri": "https://localhost:8080/"
        },
        "id": "hT3rpl-nF_v5",
        "outputId": "81289837-1b18-4ef3-fee8-8182861230c8"
      },
      "source": [
        "valor = 0\n",
        "if valor > 0:\n",
        "    print (\"Maior que Zero.\")\n",
        "else:\n",
        "    if valor == 0:\n",
        "        print (\"Igual a Zero.\")\n",
        "    else:\n",
        "        print (\"Menor que Zero.\")"
      ],
      "execution_count": null,
      "outputs": [
        {
          "name": "stdout",
          "output_type": "stream",
          "text": [
            "Igual a Zero.\n"
          ]
        }
      ]
    },
    {
      "cell_type": "markdown",
      "metadata": {
        "id": "27kZ8ZOEGfEK"
      },
      "source": [
        "A condicional exterior contém dois ramos. O primeiro ramo contém uma instrução simples. O segundo ramo contém outra instrução if, que tem outros dois ramos próprios. Esses dois ramos são instruções simples, embora pudessem ser instruções condicionais também.\n",
        "\n",
        "Embora a endentação das instruções evidencie a estrutura das condicionais, condicionais aninhadas são difíceis de ler rapidamente. É uma boa ideia evitá-las quando for possível."
      ]
    },
    {
      "cell_type": "code",
      "metadata": {
        "id": "SQD8yK1LAqOG"
      },
      "source": [
        ""
      ],
      "execution_count": null,
      "outputs": []
    },
    {
      "cell_type": "markdown",
      "metadata": {
        "id": "ScIGuPtXAqOG"
      },
      "source": [
        "# 6.1 - Strings"
      ]
    },
    {
      "cell_type": "markdown",
      "metadata": {
        "id": "PMrOg2oPAqOG"
      },
      "source": [
        "## Métodos de strings"
      ]
    },
    {
      "cell_type": "code",
      "metadata": {
        "id": "F7xgLqbSAqOG"
      },
      "source": [
        "string_pcdas = 'plataforma DE cieNcia de dAdos aplicada à saúde'"
      ],
      "execution_count": 79,
      "outputs": []
    },
    {
      "cell_type": "code",
      "metadata": {
        "id": "dxaRU6IFAqOG",
        "outputId": "14998c87-e1e8-422a-9412-380cd590e150",
        "colab": {
          "base_uri": "https://localhost:8080/",
          "height": 35
        }
      },
      "source": [
        "string_pcdas[11]\n"
      ],
      "execution_count": 84,
      "outputs": [
        {
          "output_type": "execute_result",
          "data": {
            "application/vnd.google.colaboratory.intrinsic+json": {
              "type": "string"
            },
            "text/plain": [
              "'D'"
            ]
          },
          "metadata": {},
          "execution_count": 84
        }
      ]
    },
    {
      "cell_type": "code",
      "metadata": {
        "id": "SGvMMFB6AqOH",
        "outputId": "ab142556-26d4-4d62-b48e-ace7cfd5aa8b",
        "colab": {
          "base_uri": "https://localhost:8080/",
          "height": 35
        }
      },
      "source": [
        "string_pcdas[11:13]\n"
      ],
      "execution_count": 89,
      "outputs": [
        {
          "output_type": "execute_result",
          "data": {
            "application/vnd.google.colaboratory.intrinsic+json": {
              "type": "string"
            },
            "text/plain": [
              "'DE'"
            ]
          },
          "metadata": {},
          "execution_count": 89
        }
      ]
    },
    {
      "cell_type": "code",
      "metadata": {
        "id": "X0btL25sAqOH",
        "outputId": "26910024-7b8f-414d-b6bd-75a7ff140b8d",
        "colab": {
          "base_uri": "https://localhost:8080/"
        }
      },
      "source": [
        "print('Maiúsculo:', string_pcdas.upper())\n",
        "print()\n",
        "print('Minúsculo:', string_pcdas.lower())\n",
        "print()\n",
        "print('Primeira letra da frase:', string_pcdas.capitalize())\n",
        "print()\n",
        "print('Primeira letra de cada palavra:', string_pcdas.title())"
      ],
      "execution_count": 90,
      "outputs": [
        {
          "output_type": "stream",
          "name": "stdout",
          "text": [
            "Maiúsculo: PLATAFORMA DE CIENCIA DE DADOS APLICADA À SAÚDE\n",
            "\n",
            "Minúsculo: plataforma de ciencia de dados aplicada à saúde\n",
            "\n",
            "Primeira letra da frase: Plataforma de ciencia de dados aplicada à saúde\n",
            "\n",
            "Primeira letra de cada palavra: Plataforma De Ciencia De Dados Aplicada À Saúde\n"
          ]
        }
      ]
    },
    {
      "cell_type": "code",
      "metadata": {
        "id": "ZkjJBbrlAqOH",
        "outputId": "202ad7b9-a6a5-4d9d-8bf1-8b47c55c813a",
        "colab": {
          "base_uri": "https://localhost:8080/"
        }
      },
      "source": [
        "if 'CIENCIA' in string_pcdas:\n",
        "    print(\"Valor encontrado\")\n",
        "else:\n",
        "    print(\"Valor não encontrado\")"
      ],
      "execution_count": 92,
      "outputs": [
        {
          "output_type": "stream",
          "name": "stdout",
          "text": [
            "Valor não encontrado\n"
          ]
        }
      ]
    },
    {
      "cell_type": "code",
      "metadata": {
        "id": "eofhxSoFAqOH",
        "outputId": "04332c83-177c-4378-b75c-deb0df10773a",
        "colab": {
          "base_uri": "https://localhost:8080/"
        }
      },
      "source": [
        "if 'ciencia' in string_pcdas.lower():\n",
        "    print(\"Valor encontrado\")\n",
        "else:\n",
        "    print(\"Valor não encontrado\")"
      ],
      "execution_count": 93,
      "outputs": [
        {
          "output_type": "stream",
          "name": "stdout",
          "text": [
            "Valor encontrado\n"
          ]
        }
      ]
    },
    {
      "cell_type": "code",
      "metadata": {
        "id": "kY50-F0TAqOH",
        "outputId": "10e09b6a-7c18-4e3e-d1a7-36e4639c32ac",
        "colab": {
          "base_uri": "https://localhost:8080/"
        }
      },
      "source": [
        "if 'for' in string_pcdas.lower():\n",
        "    print(\"Valor encontrado\")\n",
        "else:\n",
        "    print(\"Valor não encontrado\")"
      ],
      "execution_count": 94,
      "outputs": [
        {
          "output_type": "stream",
          "name": "stdout",
          "text": [
            "Valor encontrado\n"
          ]
        }
      ]
    },
    {
      "cell_type": "code",
      "metadata": {
        "id": "IJMm1CuVAqOH",
        "outputId": "f638c636-54e6-48a6-d664-24790e46eade",
        "colab": {
          "base_uri": "https://localhost:8080/"
        }
      },
      "source": [
        "string_frutas = 'banana,maçã,pera,kiwi,uva,morango'\n",
        "\n",
        "\n",
        "print(string_frutas.split(sep='k'))"
      ],
      "execution_count": 101,
      "outputs": [
        {
          "output_type": "stream",
          "name": "stdout",
          "text": [
            "['banana,maçã,pera,', 'iwi,uva,morango']\n"
          ]
        }
      ]
    },
    {
      "cell_type": "code",
      "metadata": {
        "id": "jenyAjjQAqOH",
        "outputId": "e3ac1b7b-2336-4a14-de23-7704d2f59958",
        "colab": {
          "base_uri": "https://localhost:8080/"
        }
      },
      "source": [
        "string_espacos = 'Meu Email  igor.morais@icict.fiocruz.br    '\n",
        "\n",
        "print(string_espacos)\n",
        "print(string_espacos.strip())"
      ],
      "execution_count": 103,
      "outputs": [
        {
          "output_type": "stream",
          "name": "stdout",
          "text": [
            "Meu Email  igor.morais@icict.fiocruz.br    \n",
            "Meu Email  igor.morais@icict.fiocruz.br\n"
          ]
        }
      ]
    },
    {
      "cell_type": "code",
      "metadata": {
        "id": "mIDMGyedAqOH",
        "outputId": "2ec0038d-c45f-4e58-90e1-d3f8aa2a1979",
        "colab": {
          "base_uri": "https://localhost:8080/"
        }
      },
      "source": [
        "print(len(string_espacos))\n",
        "print(len(string_espacos.strip()))"
      ],
      "execution_count": 104,
      "outputs": [
        {
          "output_type": "stream",
          "name": "stdout",
          "text": [
            "43\n",
            "39\n"
          ]
        }
      ]
    },
    {
      "cell_type": "code",
      "metadata": {
        "id": "5EBhahoHAqOH",
        "outputId": "0f665ada-0d6c-48b9-bda5-178193962561",
        "colab": {
          "base_uri": "https://localhost:8080/"
        }
      },
      "source": [
        "num_string = '1,564'\n",
        "print(num_string.replace(',', '.'))"
      ],
      "execution_count": 105,
      "outputs": [
        {
          "output_type": "stream",
          "name": "stdout",
          "text": [
            "1.564\n"
          ]
        }
      ]
    },
    {
      "cell_type": "code",
      "metadata": {
        "id": "8IwzmutqAqOI",
        "outputId": "e961d815-c228-4d8c-e201-914869004924",
        "colab": {
          "base_uri": "https://localhost:8080/"
        }
      },
      "source": [
        "num_string = '1.564'\n",
        "float(num_string)"
      ],
      "execution_count": 108,
      "outputs": [
        {
          "output_type": "execute_result",
          "data": {
            "text/plain": [
              "1.564"
            ]
          },
          "metadata": {},
          "execution_count": 108
        }
      ]
    },
    {
      "cell_type": "code",
      "metadata": {
        "id": "kXsNPl6EAqOI"
      },
      "source": [
        "num_string = '1,564'\n",
        "num_string = num_string.replace(',', '.')\n",
        "float(num_string)"
      ],
      "execution_count": null,
      "outputs": []
    },
    {
      "cell_type": "code",
      "metadata": {
        "id": "Pnl4Qd-cAqOI"
      },
      "source": [
        "nome = \"Balthazar\"\n",
        "idade = 21\n",
        "print(f'Olá meu nome é {nome} e tenho {idade} anos.')"
      ],
      "execution_count": null,
      "outputs": []
    },
    {
      "cell_type": "markdown",
      "metadata": {
        "id": "KSzosl4UAqOI"
      },
      "source": [
        "# 6.2 - Listas"
      ]
    },
    {
      "cell_type": "markdown",
      "metadata": {
        "id": "G64ZzflaAqOI"
      },
      "source": [
        "## Subconjuntos de uma lista (acesso por índices e slice notation);"
      ]
    },
    {
      "cell_type": "code",
      "metadata": {
        "id": "dPPI8YqSAqOI",
        "outputId": "b6f59ffb-923e-4e07-8043-ccaf8b9068a0",
        "colab": {
          "base_uri": "https://localhost:8080/"
        }
      },
      "source": [
        "lista_conteudos_do_curso = [\"introdução\", \"python\", \"listas\", \"funções\", 'pandas']\n",
        "print(lista_conteudos_do_curso)"
      ],
      "execution_count": 109,
      "outputs": [
        {
          "output_type": "stream",
          "name": "stdout",
          "text": [
            "['introdução', 'python', 'listas', 'funções', 'pandas']\n"
          ]
        }
      ]
    },
    {
      "cell_type": "code",
      "metadata": {
        "id": "raHGQN9OAqOI",
        "outputId": "4f2f1b24-2119-4844-b56f-a97e25e4c697",
        "colab": {
          "base_uri": "https://localhost:8080/",
          "height": 35
        }
      },
      "source": [
        "lista_conteudos_do_curso[1]"
      ],
      "execution_count": 110,
      "outputs": [
        {
          "output_type": "execute_result",
          "data": {
            "application/vnd.google.colaboratory.intrinsic+json": {
              "type": "string"
            },
            "text/plain": [
              "'python'"
            ]
          },
          "metadata": {},
          "execution_count": 110
        }
      ]
    },
    {
      "cell_type": "code",
      "metadata": {
        "id": "vi8GixhBAqOI",
        "outputId": "2264281c-aada-485f-ac51-d1c8e052391d",
        "colab": {
          "base_uri": "https://localhost:8080/"
        }
      },
      "source": [
        "lista_conteudos_do_curso[1:4]"
      ],
      "execution_count": 111,
      "outputs": [
        {
          "output_type": "execute_result",
          "data": {
            "text/plain": [
              "['python', 'listas', 'funções']"
            ]
          },
          "metadata": {},
          "execution_count": 111
        }
      ]
    },
    {
      "cell_type": "markdown",
      "metadata": {
        "id": "cLjhfPyPAqOI"
      },
      "source": [
        "### Adicionando um item à minha lista"
      ]
    },
    {
      "cell_type": "code",
      "metadata": {
        "id": "_Cfwst5VAqOI",
        "outputId": "eee7363e-5c3d-4c89-f080-8d6177e56ce9",
        "colab": {
          "base_uri": "https://localhost:8080/"
        }
      },
      "source": [
        "lista_conteudos_do_curso.append(\"graficos\")\n",
        "lista_conteudos_do_curso.append(\"Machine Learning\")\n",
        "\n",
        "print(lista_conteudos_do_curso)"
      ],
      "execution_count": 112,
      "outputs": [
        {
          "output_type": "stream",
          "name": "stdout",
          "text": [
            "['introdução', 'python', 'listas', 'funções', 'pandas', 'graficos', 'Machine Learning']\n"
          ]
        }
      ]
    },
    {
      "cell_type": "markdown",
      "metadata": {
        "id": "31l2AZeCAqOJ"
      },
      "source": [
        "### Removendo um item da minha lista"
      ]
    },
    {
      "cell_type": "code",
      "metadata": {
        "id": "fmN4z-bsAqOJ",
        "outputId": "c35c4a9f-3437-4343-9a9a-637fc08dcb28",
        "colab": {
          "base_uri": "https://localhost:8080/"
        }
      },
      "source": [
        "lista_conteudos_do_curso.remove(\"funções\")\n",
        "\n",
        "print(lista_conteudos_do_curso)"
      ],
      "execution_count": 114,
      "outputs": [
        {
          "output_type": "stream",
          "name": "stdout",
          "text": [
            "['introdução', 'python', 'listas', 'pandas', 'graficos']\n"
          ]
        }
      ]
    },
    {
      "cell_type": "code",
      "metadata": {
        "id": "cLj0K4TNAqOJ",
        "outputId": "92fa82bd-3b4f-4cfc-b28b-e4eb8bd1b0c5",
        "colab": {
          "base_uri": "https://localhost:8080/"
        }
      },
      "source": [
        "lista_conteudos_do_curso.pop(0)\n",
        "\n",
        "print(lista_conteudos_do_curso)"
      ],
      "execution_count": 115,
      "outputs": [
        {
          "output_type": "stream",
          "name": "stdout",
          "text": [
            "['python', 'listas', 'pandas', 'graficos']\n"
          ]
        }
      ]
    },
    {
      "cell_type": "code",
      "metadata": {
        "id": "PhyxgKp7vK5Q",
        "outputId": "028e0690-7ba6-41e6-ac2f-e246e43f8524",
        "colab": {
          "base_uri": "https://localhost:8080/"
        }
      },
      "source": [
        "print(lista_conteudos_do_curso)"
      ],
      "execution_count": 116,
      "outputs": [
        {
          "output_type": "stream",
          "name": "stdout",
          "text": [
            "['python', 'listas', 'pandas', 'graficos']\n"
          ]
        }
      ]
    },
    {
      "cell_type": "markdown",
      "metadata": {
        "id": "-qvZuPiYAqOJ"
      },
      "source": [
        "#### Tamanho de uma lista"
      ]
    },
    {
      "cell_type": "code",
      "metadata": {
        "id": "BAAUiQdMAqOJ",
        "outputId": "85fe4fc9-a05f-4840-d526-7705fa92b579",
        "colab": {
          "base_uri": "https://localhost:8080/"
        }
      },
      "source": [
        "len(lista_conteudos_do_curso)"
      ],
      "execution_count": 117,
      "outputs": [
        {
          "output_type": "execute_result",
          "data": {
            "text/plain": [
              "4"
            ]
          },
          "metadata": {},
          "execution_count": 117
        }
      ]
    },
    {
      "cell_type": "markdown",
      "metadata": {
        "id": "iVDjAhJCKU-C"
      },
      "source": [
        "#7 - Dicionários"
      ]
    },
    {
      "cell_type": "markdown",
      "metadata": {
        "id": "Dn4gKFoQKZoi"
      },
      "source": [
        "Estou programando um sistema de agenda de contatos telefônicos em Python. Para isso, preciso armazenar os números dos contatos. A princípio, podemos pensar em usar uma lista:"
      ]
    },
    {
      "cell_type": "code",
      "metadata": {
        "id": "QcL8zSlHKX_S"
      },
      "source": [
        "telefones = ['1234-5678', '9999-9999', '8765-4321', '8877-7788']"
      ],
      "execution_count": 118,
      "outputs": []
    },
    {
      "cell_type": "markdown",
      "metadata": {
        "id": "SQlJKDrDKo55"
      },
      "source": [
        "Tudo bem, temos os números de telefone armazenados. Mas… qual o sentido de termos uma lista de números soltos? De quem é o número que está na segunda posição?\n",
        "\n",
        "Precisamos, de algum modo, conectar os telefones a seus respectivos contatos. Já conhecemos um tipo que pode nos ajudar com isso a tupla:"
      ]
    },
    {
      "cell_type": "code",
      "metadata": {
        "id": "uxKwU1bdKyqI"
      },
      "source": [
        "contato = ('Yan', '1234-5678')\n"
      ],
      "execution_count": 119,
      "outputs": []
    },
    {
      "cell_type": "markdown",
      "metadata": {
        "id": "u_fSQo9bKzl3"
      },
      "source": [
        "Para não precisarmos de uma variável para cada contato, podemos colocá-los direto em uma lista de contatos:"
      ]
    },
    {
      "cell_type": "code",
      "metadata": {
        "id": "m4rUbOrmK3cS"
      },
      "source": [
        "contatos_lista = [('Yan', '1234-5678'), ('Pedro', '9999-9999'),\n",
        "                    ('Ana', '8765-4321'), ('Marina', '8877-7788')]"
      ],
      "execution_count": 120,
      "outputs": []
    },
    {
      "cell_type": "markdown",
      "metadata": {
        "id": "s8Lk6hjkK7K4"
      },
      "source": [
        "Ok! Se quisermos acessar o número de telefone da Marina, podemos fazer:\n",
        "\n"
      ]
    },
    {
      "cell_type": "code",
      "metadata": {
        "id": "5-Hpr-0lLQb4",
        "outputId": "95768116-ea4d-4f76-ab52-d6fd643baec6",
        "colab": {
          "base_uri": "https://localhost:8080/"
        }
      },
      "source": [
        "print(contatos_lista[3][1])"
      ],
      "execution_count": 121,
      "outputs": [
        {
          "output_type": "stream",
          "name": "stdout",
          "text": [
            "8877-7788\n"
          ]
        }
      ]
    },
    {
      "cell_type": "markdown",
      "metadata": {
        "id": "A-7JDR2rLYdq"
      },
      "source": [
        "Conseguimos! Agora, o número do Pedro: … Mas espera, qual é mesmo a posição do Pedro na nossa lista de contatos?\n",
        "\n",
        "Repare que do modo como está, mal faz diferença ter os nomes dos contatos salvos, porque só conseguimos acessar cada contato pela sua posição na lista. Será que não há um jeito melhor?"
      ]
    },
    {
      "cell_type": "markdown",
      "metadata": {
        "id": "_t3O6-CaLjf2"
      },
      "source": [
        "## Mapeando contatos com um dicionário"
      ]
    },
    {
      "cell_type": "markdown",
      "metadata": {
        "id": "xJ5UaeOQL09g"
      },
      "source": [
        "Até agora temos uma lista de contatos em que, ao menos, cada contato tem seu nome e telefone conectados. Entretanto, por enquanto, só conseguimos acessar um contato individualmente pela sua posição na lista, e não pelo seu próprio nome.\n",
        "\n",
        "O ideal seria mapear o nome de cada contato com seu telefone, evitando outros problemas.\n",
        "\n",
        "Por exemplo, podemos falar que o contato Yan tem o número de telefone 1234-5678. Assim, quando quisermos saber qual o n de telefone do Yan, basta ir até o seu nome. Dessa forma, não precisamos decorar qual a posição na lista que o telefone se encontra, basta sabermos seu nome de contato.\n",
        "\n",
        "Veja que, nesse caso, estamos criando uma espécie de dicionário, parecido com os dicionários de língua portuguesa, ou inglesa. Nesses dicionários, temos uma chave que é a palavra que estamos a buscar, que no nosso caso é o nome de contato.\n",
        "\n",
        "Quando achamos essa palavra, podemos ver o seu significado, isto é, o valor daquela palavra na língua, que no nosso caso, é o número de telefone.\n",
        "\n",
        "Esse tipo de estrutura é muito utilizado em diversas linguagens de programação (mas normalmente tem outro nome, como array associativo. Com ela, conseguimos ter um comportamento parecido com o de dicionários.\n",
        "\n",
        "Bem, vamos falar para o Python criar um desses dicionários para a gente. No Python, usamos chaves ({}) para construir nossos dicionários. Neste caso, falamos para o Python, que a chave 'Yan' possuí (:) o valor 1234-5678 como seu telefone:"
      ]
    },
    {
      "cell_type": "code",
      "metadata": {
        "id": "KWm1xe0rL5MN",
        "outputId": "017d3e78-411b-415e-c19e-d9e92ec08aa8",
        "colab": {
          "base_uri": "https://localhost:8080/"
        }
      },
      "source": [
        "contatos = {'Yan': '1234-5678'}\n",
        "print(type(contatos))"
      ],
      "execution_count": 122,
      "outputs": [
        {
          "output_type": "stream",
          "name": "stdout",
          "text": [
            "<class 'dict'>\n"
          ]
        }
      ]
    },
    {
      "cell_type": "markdown",
      "metadata": {
        "id": "c8-sYXAUMD0d"
      },
      "source": [
        "E olha o tipo da variável contatos que acabamos de criar:\n",
        "\n",
        "<class 'dict'>\n",
        "\n",
        "dict - de fato um dicionário. Mas será que vamos ter que redigitar todos os dados de contatos que já colocamos em nossa lista de contatos? Também podemos criar um dicionário usando sua função construtora dict() e passando, como parâmetro, uma lista de tuplas, como em nosso caso:"
      ]
    },
    {
      "cell_type": "code",
      "metadata": {
        "id": "GRXUep7ZMLLh",
        "outputId": "d8e16089-83f6-4c2d-9d11-cd65c813fda4",
        "colab": {
          "base_uri": "https://localhost:8080/"
        }
      },
      "source": [
        "contatos_lista = [('Yan', '1234-5678'), ('Pedro', '9999-9999'),\n",
        "                    ('Ana', '8765-4321'), ('Marina', '8877-7788')]\n",
        "\n",
        "contatos = dict(contatos_lista)\n",
        "print(contatos)"
      ],
      "execution_count": 123,
      "outputs": [
        {
          "output_type": "stream",
          "name": "stdout",
          "text": [
            "{'Yan': '1234-5678', 'Pedro': '9999-9999', 'Ana': '8765-4321', 'Marina': '8877-7788'}\n"
          ]
        }
      ]
    },
    {
      "cell_type": "markdown",
      "metadata": {
        "id": "y-h6gxyqMS4l"
      },
      "source": [
        "Certo, temos nossa estrutura pronta! Mas espera aí, o nosso dicionário não está ordenado em ordem alfabética, ele não tem ordem nenhuma… Como podemos acessar seus itens?"
      ]
    },
    {
      "cell_type": "markdown",
      "metadata": {
        "id": "2bZNEOKNMYcd"
      },
      "source": [
        "## Acessando os itens de um dicionário"
      ]
    },
    {
      "cell_type": "markdown",
      "metadata": {
        "id": "D8Mt9vuXMdFo"
      },
      "source": [
        "Podemos acessar os valores dele de forma similar a como acessamos os valores de uma lista, por exemplo, com a diferença de que usamos as chaves que definimos no lugar dos índices numéricos:"
      ]
    },
    {
      "cell_type": "code",
      "metadata": {
        "id": "0u6ZlzZWMg4I",
        "outputId": "2932f586-69ed-44db-b425-2bc4d5e44a4f",
        "colab": {
          "base_uri": "https://localhost:8080/"
        }
      },
      "source": [
        "print(contatos['Ana'])"
      ],
      "execution_count": 124,
      "outputs": [
        {
          "output_type": "stream",
          "name": "stdout",
          "text": [
            "8765-4321\n"
          ]
        }
      ]
    },
    {
      "cell_type": "markdown",
      "metadata": {
        "id": "KzotVTUSMke7"
      },
      "source": [
        "Tudo bem! Até que, depois de um tempo, quis ver se eu encontrava o telefone de um velho amigo João. Fiz o seguinte:"
      ]
    },
    {
      "cell_type": "code",
      "metadata": {
        "id": "YyDpWI6sMsPC",
        "outputId": "f1f5f04e-808b-4ea3-8027-d5de62c85cb2",
        "colab": {
          "base_uri": "https://localhost:8080/",
          "height": 163
        }
      },
      "source": [
        "print(contatos['João'])"
      ],
      "execution_count": 125,
      "outputs": [
        {
          "output_type": "error",
          "ename": "KeyError",
          "evalue": "ignored",
          "traceback": [
            "\u001b[0;31m---------------------------------------------------------------------------\u001b[0m",
            "\u001b[0;31mKeyError\u001b[0m                                  Traceback (most recent call last)",
            "\u001b[0;32m<ipython-input-125-dc4db38a3feb>\u001b[0m in \u001b[0;36m<module>\u001b[0;34m()\u001b[0m\n\u001b[0;32m----> 1\u001b[0;31m \u001b[0mprint\u001b[0m\u001b[0;34m(\u001b[0m\u001b[0mcontatos\u001b[0m\u001b[0;34m[\u001b[0m\u001b[0;34m'João'\u001b[0m\u001b[0;34m]\u001b[0m\u001b[0;34m)\u001b[0m\u001b[0;34m\u001b[0m\u001b[0;34m\u001b[0m\u001b[0m\n\u001b[0m",
            "\u001b[0;31mKeyError\u001b[0m: 'João'"
          ]
        }
      ]
    },
    {
      "cell_type": "markdown",
      "metadata": {
        "id": "Brrda2iXMybb"
      },
      "source": [
        "Hum… uma exceção de tipo KeyError indicando que a chave 'João' não foi encontrada. Mas é um pouco estranho imprimir toda essa mensagem para o usuário, não é? Pode ser confuso... Será que não podemos substituir isso?\n",
        "\n",
        "Os dicionários possuem um método específico para busca de valores, o get(), no qual podemos passar como parâmetros a chave que queremos e um valor padrão para retornar caso essa chave não seja encontrada:"
      ]
    },
    {
      "cell_type": "code",
      "metadata": {
        "id": "e00080pbM5_K",
        "outputId": "02f8cc4a-593e-4e98-d7e8-666683f6b136",
        "colab": {
          "base_uri": "https://localhost:8080/"
        }
      },
      "source": [
        "print(contatos.get('Yan', 'Contato não encontrado'))\n",
        "print(contatos.get('João', 'Contato não encontrado'))"
      ],
      "execution_count": 126,
      "outputs": [
        {
          "output_type": "stream",
          "name": "stdout",
          "text": [
            "1234-5678\n",
            "Contato não encontrado\n"
          ]
        }
      ]
    },
    {
      "cell_type": "markdown",
      "metadata": {
        "id": "glWPH16FM94p"
      },
      "source": [
        "Muito melhor agora!\n",
        "\n",
        "Também podemos verificar se um contato está em nosso dicionário através da palavra chave in:"
      ]
    },
    {
      "cell_type": "code",
      "metadata": {
        "id": "SVHUsJGPNBH4",
        "outputId": "689b1066-4aaa-45e0-bca7-25e368832774",
        "colab": {
          "base_uri": "https://localhost:8080/"
        }
      },
      "source": [
        "print('Yan' in contatos)"
      ],
      "execution_count": 127,
      "outputs": [
        {
          "output_type": "stream",
          "name": "stdout",
          "text": [
            "True\n"
          ]
        }
      ]
    },
    {
      "cell_type": "markdown",
      "metadata": {
        "id": "hBAp1L8oNH0v"
      },
      "source": [
        "Como esperado!\n",
        "\n",
        "Esses dias, achei um número solto aqui e quis verificar se ele estava em minha agenda:"
      ]
    },
    {
      "cell_type": "code",
      "metadata": {
        "id": "2i6MLvPZNL8V",
        "outputId": "277b04c7-fcb4-40a9-8196-7f712575909f",
        "colab": {
          "base_uri": "https://localhost:8080/"
        }
      },
      "source": [
        "print('9999-9999' in contatos)"
      ],
      "execution_count": 128,
      "outputs": [
        {
          "output_type": "stream",
          "name": "stdout",
          "text": [
            "False\n"
          ]
        }
      ]
    },
    {
      "cell_type": "markdown",
      "metadata": {
        "id": "x-JcQtJgNM1J"
      },
      "source": [
        "Ué! Mas esse número está sim na agenda, é o número do Pedro! Por que será que o resultado foi False, então?\n",
        "\n",
        "Acontece que o in, usado dessa forma, verifica apenas as chaves do dicionário, não os valores. Para obtermos valores, podemos usar o método values():"
      ]
    },
    {
      "cell_type": "code",
      "metadata": {
        "id": "wrPlytLANSPV",
        "outputId": "2efae252-70b6-4a7d-d578-1b72b6dff155",
        "colab": {
          "base_uri": "https://localhost:8080/"
        }
      },
      "source": [
        "print('9999-9999' in contatos.values())"
      ],
      "execution_count": 129,
      "outputs": [
        {
          "output_type": "stream",
          "name": "stdout",
          "text": [
            "True\n"
          ]
        }
      ]
    },
    {
      "cell_type": "markdown",
      "metadata": {
        "id": "9swVgLnkNVZZ"
      },
      "source": [
        "Agora sim! Temos nossa estrutura de mapeamento e já conseguimos visualizar os dados dela. Mas e agora, o que mais conseguimos fazer?"
      ]
    },
    {
      "cell_type": "markdown",
      "metadata": {
        "id": "36RWaZPqNcem"
      },
      "source": [
        "##Adicionando valores ao dicionário"
      ]
    },
    {
      "cell_type": "markdown",
      "metadata": {
        "id": "rd6E0Ad_NgKp"
      },
      "source": [
        "Encontrei meu amigo João e, finalmente, decidi adicionar o número dele na minha agenda. Mas… como posso fazer isso com nosso dicionário de contatos? Fui tentar usar um método append(), como nas listas, e olha o que apareceu:"
      ]
    },
    {
      "cell_type": "markdown",
      "metadata": {
        "id": "bU3MOTXnNxpO"
      },
      "source": [
        "Esse método não existe… Ainda tentei criar um outro dicionário e fazer uma soma, mas o resultado foi esse:\n",
        "\n",
        "Traceback (most recent call last):\n",
        "  File \"<stdin>\", line 1, in <module>\n",
        "\n",
        "TypeError: unsupported operand type(s) for +: 'dict' and 'dict'\n",
        "\n",
        "Também não funciona! A sintaxe de adicionar um item em um dicionário é um pouco diferente de que em outros tipos do Python, mas também bastante objetiva. Por exemplo, se queremos adicionar o João no nosso dicionário de contatos, basta atribuir seu telefone na chave 'João':"
      ]
    },
    {
      "cell_type": "code",
      "metadata": {
        "id": "-XGmM1-uOCry",
        "outputId": "ebb65ee9-ce91-4e41-a8e4-47cd3233397b",
        "colab": {
          "base_uri": "https://localhost:8080/"
        }
      },
      "source": [
        "contatos['João'] = '8887-7778'\n",
        "print(contatos)"
      ],
      "execution_count": 130,
      "outputs": [
        {
          "output_type": "stream",
          "name": "stdout",
          "text": [
            "{'Yan': '1234-5678', 'Pedro': '9999-9999', 'Ana': '8765-4321', 'Marina': '8877-7788', 'João': '8887-7778'}\n"
          ]
        }
      ]
    },
    {
      "cell_type": "markdown",
      "metadata": {
        "id": "Hsy_sHJeOL4J"
      },
      "source": [
        "Deu certo!"
      ]
    },
    {
      "cell_type": "markdown",
      "metadata": {
        "id": "lVISJByGOPm6"
      },
      "source": [
        "##Removendo itens do dicionário"
      ]
    },
    {
      "cell_type": "markdown",
      "metadata": {
        "id": "wnXms-1VOUxd"
      },
      "source": [
        "Infelizmente, minha amiga Marina perdeu o celular e, consequentemente, não era mais dona do número salvo em meu dicionário de contatos. Precisamos, agora, apagar o item que corresponde a ela. Mas como?\n",
        "\n",
        "Uma maneira simples é usando o statement del, dessa forma:"
      ]
    },
    {
      "cell_type": "code",
      "metadata": {
        "id": "-tGn6QfaOYL1",
        "outputId": "810e4bec-0b6a-4591-a023-e6ff58081b83",
        "colab": {
          "base_uri": "https://localhost:8080/"
        }
      },
      "source": [
        "del contatos['Marina']\n",
        "print(contatos)"
      ],
      "execution_count": 132,
      "outputs": [
        {
          "output_type": "stream",
          "name": "stdout",
          "text": [
            "{'Yan': '1234-5678', 'Pedro': '9999-9999', 'Ana': '8765-4321', 'João': '8887-7778'}\n"
          ]
        }
      ]
    },
    {
      "cell_type": "markdown",
      "metadata": {
        "id": "xyZPc6HTOcts"
      },
      "source": [
        "Certo! Mas e se tentarmos remover um item que não existe?"
      ]
    },
    {
      "cell_type": "code",
      "metadata": {
        "id": "Pyvrhz33Odni",
        "outputId": "fc566d9c-bddb-418f-b32e-c28548b0f91b",
        "colab": {
          "base_uri": "https://localhost:8080/",
          "height": 163
        }
      },
      "source": [
        "del contatos['Catarina']"
      ],
      "execution_count": 133,
      "outputs": [
        {
          "output_type": "error",
          "ename": "KeyError",
          "evalue": "ignored",
          "traceback": [
            "\u001b[0;31m---------------------------------------------------------------------------\u001b[0m",
            "\u001b[0;31mKeyError\u001b[0m                                  Traceback (most recent call last)",
            "\u001b[0;32m<ipython-input-133-80a8d4234e3b>\u001b[0m in \u001b[0;36m<module>\u001b[0;34m()\u001b[0m\n\u001b[0;32m----> 1\u001b[0;31m \u001b[0;32mdel\u001b[0m \u001b[0mcontatos\u001b[0m\u001b[0;34m[\u001b[0m\u001b[0;34m'Catarina'\u001b[0m\u001b[0;34m]\u001b[0m\u001b[0;34m\u001b[0m\u001b[0;34m\u001b[0m\u001b[0m\n\u001b[0m",
            "\u001b[0;31mKeyError\u001b[0m: 'Catarina'"
          ]
        }
      ]
    },
    {
      "cell_type": "markdown",
      "metadata": {
        "id": "xwSLZTc6Ogwo"
      },
      "source": [
        "Um KeyError, como aquele que obtivemos ao tentar pegar um item que não existia! Para evitar essa exceção, também temos um método de dicionário que pode nos ajudar - o pop().\n",
        "\n",
        "O método pop(), além de remover o elemento com a chave especificada do dicionário, nos retorna o valor desse elemento. Também podemos definir um valor padrão de retorno, para caso a chave não seja encontrada:"
      ]
    },
    {
      "cell_type": "code",
      "metadata": {
        "id": "Y4wQ-ba7OmFv",
        "outputId": "76e6c544-8e05-46c3-c34a-4f727dda23e6",
        "colab": {
          "base_uri": "https://localhost:8080/"
        }
      },
      "source": [
        "contatos = {'Yan': '1234-5678', 'Pedro': '9999-9999', 'Ana': '8765-4321',\n",
        "            'Marina': '8877-7788', 'João': '8887-7778'}\n",
        "\n",
        "print(contatos.pop('Marina', 'Contato não encontrado'))\n",
        "print(contatos.pop('Catarina', 'Contato não encontrado'))\n",
        "print()\n",
        "print(contatos)"
      ],
      "execution_count": 134,
      "outputs": [
        {
          "output_type": "stream",
          "name": "stdout",
          "text": [
            "8877-7788\n",
            "Contato não encontrado\n",
            "\n",
            "{'Yan': '1234-5678', 'Pedro': '9999-9999', 'Ana': '8765-4321', 'João': '8887-7778'}\n"
          ]
        }
      ]
    },
    {
      "cell_type": "markdown",
      "metadata": {
        "id": "7ma3UMuhJsTv"
      },
      "source": [
        "##Crie uma lista que receba sua idade e sua altura e exiba na tela"
      ]
    },
    {
      "cell_type": "code",
      "metadata": {
        "id": "3JxNEWggJ3uv",
        "outputId": "1da804fd-20fc-4de6-a6f3-abb16c171db2",
        "colab": {
          "base_uri": "https://localhost:8080/"
        }
      },
      "source": [
        "meus_dados = [32, 1.77]\n",
        "\n",
        "meus_dados"
      ],
      "execution_count": 137,
      "outputs": [
        {
          "output_type": "execute_result",
          "data": {
            "text/plain": [
              "[32, 1.77]"
            ]
          },
          "metadata": {},
          "execution_count": 137
        }
      ]
    }
  ]
}