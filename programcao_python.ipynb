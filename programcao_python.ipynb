{
  "cells": [
    {
      "cell_type": "markdown",
      "metadata": {
        "colab_type": "text",
        "id": "view-in-github"
      },
      "source": [
        "<a href=\"https://colab.research.google.com/github/russel-franco-ey/empoderatech_aula_python/blob/main/programcao_python.ipynb\" target=\"_parent\"><img src=\"https://colab.research.google.com/assets/colab-badge.svg\" alt=\"Open In Colab\"/></a>"
      ]
    },
    {
      "cell_type": "markdown",
      "metadata": {
        "id": "Dz7PuXvc_OIo"
      },
      "source": [
        "1. Conceitos do Python\n",
        " 1. O que é o Python? geralmente é usado em que?\n",
        "\n",
        "2. Lógica de programação\n",
        " 1.   Exemplos do Daniel de fritar ovo\n",
        "\n",
        "3. Comandos básicos\n",
        "  1. Print()\n",
        "  2. Importar biblioteca\n",
        "  3. Importar biblioteca math e fazer contas\n",
        "\n",
        "4. Variáveis e Tipos de dados\n",
        " 1. int, float, string e boolean\n",
        "\n",
        "5. Condicionais\n",
        " 1. Exemplos do arquivo do Kelvin\n",
        "\n",
        "6. Listas\n",
        "\n",
        "7. Dicionários\n",
        "\n",
        "8. Laços\n",
        "\n",
        "9. test\n",
        "\n",
        "daniel teste"
      ]
    }
  ],
  "metadata": {
    "colab": {
      "collapsed_sections": [],
      "include_colab_link": true,
      "name": "programcao_python.ipynb",
      "provenance": [],
      "toc_visible": true
    },
    "kernelspec": {
      "display_name": "Python 3",
      "name": "python3"
    },
    "language_info": {
      "name": "python"
    }
  },
  "nbformat": 4,
  "nbformat_minor": 2
}
