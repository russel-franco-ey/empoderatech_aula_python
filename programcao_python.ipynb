{
  "cells": [
    {
      "cell_type": "markdown",
      "metadata": {
        "colab_type": "text",
        "id": "view-in-github"
      },
      "source": [
        "<a href=\"https://colab.research.google.com/github/russel-franco-ey/empoderatech_aula_python/blob/main/programcao_python.ipynb\" target=\"_parent\"><img src=\"https://colab.research.google.com/assets/colab-badge.svg\" alt=\"Open In Colab\"/></a>"
      ]
    },
    {
      "cell_type": "markdown",
      "metadata": {
        "id": "Dz7PuXvc_OIo"
      },
      "source": [
        "1. Conceitos do Python\n",
        " 1. O que é o Python? geralmente é usado em que?\n",
        "\n",
        "2. Lógica de programação\n",
        " 1.   Exemplos do Daniel de fritar ovo\n",
        "\n",
        "3. Comandos básicos\n",
        "  1. Print()\n",
        "  2. Importar biblioteca\n",
        "  3. Importar biblioteca math e fazer contas\n",
        "\n",
        "4. Variáveis e Tipos de dados\n",
        " 1. int, float, string e boolean\n",
        "\n",
        "5. Condicionais\n",
        " 1. Exemplos do arquivo do Kelvin\n",
        "\n",
        "6. Listas\n",
        "\n",
        "7. Dicionários\n",
        "\n",
        "8. Laços\n",
        "\n",
        "9. test\n",
        "\n",
        "daniel teste"
      ]
    },
    {
      "cell_type": "markdown",
      "metadata": {
        "id": "6IDnFzV1YkdX"
      },
      "source": [
        "#2 - Lógica de Programação"
      ]
    },
    {
      "cell_type": "markdown",
      "metadata": {
        "id": "bkbcbgy-IewE"
      },
      "source": [
        "##Algoritmos\n"
      ]
    },
    {
      "cell_type": "markdown",
      "metadata": {
        "id": "tGSBrOuKIoNG"
      },
      "source": [
        "\n",
        "\n",
        "Conjunto das regras e procedimentos lógicos perfeitamente definidos que levam à solução de um problema em um número finito de etapas.\n",
        "\n",
        "**Mas o que isso quer dizer?**\n",
        "\n",
        "Quando vamos à padaria comprar pão francês, por exemplo, precisamos criar um algoritmo para executar tal ação. Nessa sequência, nós ordenamos os atos em uma sucessão que faça sentido e seja capaz de atingir o objetivo inicial, afinal de contas, não faz sentido algum primeiro sair à rua para depois voltar e pegar a carteira, por exemplo. É importante entender também que existe mais de um algoritmo capaz de solucionar o meu problema e, desde que ele funcione, não existe certo ou errado – mas o conceito de  mais ou menos eficiente é válido aqui.\n",
        "\n",
        "Seguem dois exemplos de sequências onde o intuito das duas é, no final, ter um ovo frito no prato.\n",
        "\n",
        "<img src=\"https://labs.bluesoft.com.br/wp-content/uploads/2018/12/Captura-de-Tela-2018-12-07-a%CC%80s-10.51.39.png\"> \n",
        "\n",
        "<img src=\"https://labs.bluesoft.com.br/wp-content/uploads/2018/12/Captura-de-Tela-2018-12-07-a%CC%80s-10.51.22.png\">\n",
        "\n",
        "Enquanto o primeiro exemplo é mais cuidadoso e evita que a pessoa frite um ovo podre ou acabe espirrando óleo acidentalmente ao jogar o ovo na gordura quente,  por exemplo, a segunda é mais rápida e prática. As duas estão certas porque ambas conseguem chegar ao meu objetivo final, mas, talvez, a primeira seja mais eficiente por evitar problemas ao longo dos seus procedimentos."
      ]
    },
    {
      "cell_type": "markdown",
      "metadata": {
        "id": "EgV7TXS7JMdA"
      },
      "source": [
        "##O que são variáveis?\n",
        "\n",
        "Na matemática usamos variáveis para fazer contas por exemplo:\n",
        "\n",
        "x = 5 + 10\n",
        "\n",
        "x = 15\n",
        "\n",
        "No exemplo acima **x** é a variável e está sendo usada para armazenar algo que podemos usar depois.\n",
        "\n",
        "\n",
        "\n",
        "Na programação não é muito diferente disso, também usamos as variáveis para armazenar o que precisamos, como se fossem caixinhas para organizar tudo que vamos usar, e sabermos onde está."
      ]
    },
    {
      "cell_type": "code",
      "execution_count": null,
      "metadata": {
        "colab": {
          "base_uri": "https://localhost:8080/"
        },
        "id": "tpMkuoO6JSEA",
        "outputId": "8f8a0a1f-58bb-4d4d-8011-a4229f75e710"
      },
      "outputs": [
        {
          "name": "stdout",
          "output_type": "stream",
          "text": [
            "Sapatos\n",
            "Camisas\n"
          ]
        }
      ],
      "source": [
        "caixa_de_sapatos = \"Sapatos\"\n",
        "\n",
        "caixa_de_camisas = \"Camisas\"\n",
        "\n",
        "print(caixa_de_sapatos)\n",
        "\n",
        "print(caixa_de_camisas)"
      ]
    },
    {
      "cell_type": "markdown",
      "metadata": {
        "id": "ATHh4kkzJS6V"
      },
      "source": [
        "No exemplo acima estamos guardando **\"Sapatos\"** na variável **caixa_de_sapatos** e **\"Camisas\"** na variável **caixa_de_camisas**\n",
        "\n",
        "\n",
        "\n",
        "Cada variável só aceita uma coisa de cada vez, se eu quiser botar **\"Sapatos\"** na variável **caixa_de_camisas** não vai sobrar mais espaço para as **\"Camisas\"**. \n",
        "\n",
        "Veja o exemplo:\n",
        "\n"
      ]
    },
    {
      "cell_type": "code",
      "execution_count": null,
      "metadata": {},
      "outputs": [],
      "source": []
    },
    {
      "cell_type": "code",
      "execution_count": null,
      "metadata": {
        "colab": {
          "base_uri": "https://localhost:8080/"
        },
        "id": "NJSyDtOwJYQH",
        "outputId": "a40ba8b2-9dc7-4add-b1c4-674681a2a850"
      },
      "outputs": [
        {
          "name": "stdout",
          "output_type": "stream",
          "text": [
            "Camisas\n"
          ]
        }
      ],
      "source": [
        "caixa_de_sapatos = \"Camisas\"\n",
        "print(caixa_de_sapatos)"
      ]
    },
    {
      "cell_type": "markdown",
      "metadata": {
        "id": "0vuy4R2uZIJg"
      },
      "source": [
        "#3 - Comandos Básicos"
      ]
    },
    {
      "cell_type": "markdown",
      "metadata": {
        "id": "uXJFRUZ3ZMTf"
      },
      "source": [
        "##Print"
      ]
    },
    {
      "cell_type": "markdown",
      "metadata": {
        "id": "AH27-lcDZqTd"
      },
      "source": [
        "Como vocês devem ter notado nos exemplo anteriores utilizamos o \"print\" para exibir algumas coisas na tela.\n",
        "O \"print\" é uma das muitas funções que temos no python, e a principal função dela é exibir o que chamamos de saída de dados.\n",
        "\n",
        "Normalmente utilizamos ele para exibir mensagens para o usuário final, mas ele também é uma boa ferramenta para testar se o seu código está se comportando como você planejou, te possibilitando exibir o conteúdo das variáveis enquanto o programa está funcionando(em tempo de execução).\n"
      ]
    },
    {
      "cell_type": "markdown",
      "metadata": {
        "id": "sBjsupGmJbyI"
      },
      "source": [
        "## Exercícios"
      ]
    },
    {
      "cell_type": "markdown",
      "metadata": {
        "id": "Xgg5CNy_Jghh"
      },
      "source": [
        " ## Crie uma variável que receba seu nome e outra que receba seu e-mail e exiba ela na tela.\n",
        "\n"
      ]
    },
    {
      "cell_type": "code",
      "execution_count": null,
      "metadata": {
        "id": "YNT1AGM_JoU8"
      },
      "outputs": [],
      "source": [
        "# Coloque aqui o seu código"
      ]
    },
    {
      "cell_type": "markdown",
      "metadata": {
        "id": "BzaWjB00cHPx"
      },
      "source": [
        "##Importar biblioteca"
      ]
    },
    {
      "cell_type": "markdown",
      "metadata": {
        "id": "NYlqvy6WcMip"
      },
      "source": [
        "Uma das coisas que torna o python tão poderoso é a possibilidade de importar bibliotecas que possuem funções que não vem incluídas por padrão no python, mas podem ser incluídas conforme a sua necessidade.\n",
        "\n",
        "Como exemplo temos a biblioteca \"math\" que serve para fazer diversos cáculos matemáticos como por exemplo raiz quadrada.\n",
        "\n",
        "Veja o exemplo:"
      ]
    },
    {
      "cell_type": "code",
      "execution_count": null,
      "metadata": {
        "colab": {
          "base_uri": "https://localhost:8080/"
        },
        "id": "Tv4eSJ0Qct9e",
        "outputId": "e815b1d8-6dbc-4857-aeff-c2803961586e"
      },
      "outputs": [
        {
          "name": "stdout",
          "output_type": "stream",
          "text": [
            "2.0\n"
          ]
        }
      ],
      "source": [
        "import math \n",
        "\n",
        "print(math.sqrt(4))"
      ]
    },
    {
      "cell_type": "markdown",
      "metadata": {
        "id": "pyHJcFdBd8jv"
      },
      "source": [
        "##Exercício\n",
        "\n",
        "Use a biblioteca math para realizar a raiz quadrada de 25 e exibir na tela."
      ]
    },
    {
      "cell_type": "code",
      "execution_count": null,
      "metadata": {
        "id": "XSJlMggYeLLl"
      },
      "outputs": [],
      "source": [
        "##Escreva sua solução aqui"
      ]
    },
    {
      "cell_type": "markdown",
      "metadata": {
        "id": "iVDjAhJCKU-C"
      },
      "source": [
        "#7 - Dicionários"
      ]
    },
    {
      "cell_type": "markdown",
      "metadata": {
        "id": "Dn4gKFoQKZoi"
      },
      "source": [
        "Estou programando um sistema de agenda de contatos telefônicos em Python. Para isso, preciso armazenar os números dos contatos. A princípio, podemos pensar em usar uma lista:"
      ]
    },
    {
      "cell_type": "code",
      "execution_count": null,
      "metadata": {
        "id": "QcL8zSlHKX_S"
      },
      "outputs": [],
      "source": [
        "telefones = ['1234-5678', '9999-9999', '8765-4321', '8877-7788']"
      ]
    },
    {
      "cell_type": "markdown",
      "metadata": {
        "id": "SQlJKDrDKo55"
      },
      "source": [
        "Tudo bem, temos os números de telefone armazenados. Mas… qual o sentido de termos uma lista de números soltos? De quem é o número que está na segunda posição?\n",
        "\n",
        "Precisamos, de algum modo, conectar os telefones a seus respectivos contatos. Já conhecemos um tipo que pode nos ajudar com isso a tupla:"
      ]
    },
    {
      "cell_type": "code",
      "execution_count": null,
      "metadata": {
        "id": "uxKwU1bdKyqI"
      },
      "outputs": [],
      "source": [
        "contato = ('Yan', '1234-5678')\n"
      ]
    },
    {
      "cell_type": "markdown",
      "metadata": {
        "id": "u_fSQo9bKzl3"
      },
      "source": [
        "Para não precisarmos de uma variável para cada contato, podemos colocá-los direto em uma lista de contatos:"
      ]
    },
    {
      "cell_type": "code",
      "execution_count": null,
      "metadata": {
        "id": "m4rUbOrmK3cS"
      },
      "outputs": [],
      "source": [
        "contatos_lista = [('Yan', '1234-5678'), ('Pedro', '9999-9999'),\n",
        "                    ('Ana', '8765-4321'), ('Marina', '8877-7788')]"
      ]
    },
    {
      "cell_type": "markdown",
      "metadata": {
        "id": "s8Lk6hjkK7K4"
      },
      "source": [
        "Ok! Se quisermos acessar o número de telefone da Marina, podemos fazer:\n",
        "\n"
      ]
    },
    {
      "cell_type": "code",
      "execution_count": null,
      "metadata": {
        "id": "5-Hpr-0lLQb4"
      },
      "outputs": [],
      "source": [
        "print(contatos_lista[3][1])"
      ]
    },
    {
      "cell_type": "markdown",
      "metadata": {
        "id": "A-7JDR2rLYdq"
      },
      "source": [
        "Conseguimos! Agora, o número do Pedro: … Mas espera, qual é mesmo a posição do Pedro na nossa lista de contatos?\n",
        "\n",
        "Repare que do modo como está, mal faz diferença ter os nomes dos contatos salvos, porque só conseguimos acessar cada contato pela sua posição na lista. Será que não há um jeito melhor?"
      ]
    },
    {
      "cell_type": "markdown",
      "metadata": {
        "id": "_t3O6-CaLjf2"
      },
      "source": [
        "## Mapeando contatos com um dicionário"
      ]
    },
    {
      "cell_type": "markdown",
      "metadata": {
        "id": "xJ5UaeOQL09g"
      },
      "source": [
        "Até agora temos uma lista de contatos em que, ao menos, cada contato tem seu nome e telefone conectados. Entretanto, por enquanto, só conseguimos acessar um contato individualmente pela sua posição na lista, e não pelo seu próprio nome.\n",
        "\n",
        "O ideal seria mapear o nome de cada contato com seu telefone, evitando outros problemas.\n",
        "\n",
        "Por exemplo, podemos falar que o contato Yan tem o número de telefone 1234-5678. Assim, quando quisermos saber qual o n de telefone do Yan, basta ir até o seu nome. Dessa forma, não precisamos decorar qual a posição na lista que o telefone se encontra, basta sabermos seu nome de contato.\n",
        "\n",
        "Veja que, nesse caso, estamos criando uma espécie de dicionário, parecido com os dicionários de língua portuguesa, ou inglesa. Nesses dicionários, temos uma chave que é a palavra que estamos a buscar, que no nosso caso é o nome de contato.\n",
        "\n",
        "Quando achamos essa palavra, podemos ver o seu significado, isto é, o valor daquela palavra na língua, que no nosso caso, é o número de telefone.\n",
        "\n",
        "Esse tipo de estrutura é muito utilizado em diversas linguagens de programação (mas normalmente tem outro nome, como array associativo. Com ela, conseguimos ter um comportamento parecido com o de dicionários.\n",
        "\n",
        "Bem, vamos falar para o Python criar um desses dicionários para a gente. No Python, usamos chaves ({}) para construir nossos dicionários. Neste caso, falamos para o Python, que a chave 'Yan' possuí (:) o valor 1234-5678 como seu telefone:"
      ]
    },
    {
      "cell_type": "code",
      "execution_count": null,
      "metadata": {
        "id": "KWm1xe0rL5MN"
      },
      "outputs": [],
      "source": [
        "contatos = {'Yan': '1234-5678'}\n",
        "print(type(contatos))"
      ]
    },
    {
      "cell_type": "markdown",
      "metadata": {
        "id": "c8-sYXAUMD0d"
      },
      "source": [
        "E olha o tipo da variável contatos que acabamos de criar:\n",
        "\n",
        "<class 'dict'>\n",
        "\n",
        "dict - de fato um dicionário. Mas será que vamos ter que redigitar todos os dados de contatos que já colocamos em nossa lista de contatos? Também podemos criar um dicionário usando sua função construtora dict() e passando, como parâmetro, uma lista de tuplas, como em nosso caso:"
      ]
    },
    {
      "cell_type": "code",
      "execution_count": null,
      "metadata": {
        "id": "GRXUep7ZMLLh"
      },
      "outputs": [],
      "source": [
        "contatos_lista = [('Yan', '1234-5678'), ('Pedro', '9999-9999'),\n",
        "                    ('Ana', '8765-4321'), ('Marina', '8877-7788')]\n",
        "\n",
        "contatos = dict(contatos_lista)\n",
        "print(contatos)"
      ]
    },
    {
      "cell_type": "markdown",
      "metadata": {
        "id": "y-h6gxyqMS4l"
      },
      "source": [
        "Certo, temos nossa estrutura pronta! Mas espera aí, o nosso dicionário não está ordenado em ordem alfabética, ele não tem ordem nenhuma… Como podemos acessar seus itens?"
      ]
    },
    {
      "cell_type": "markdown",
      "metadata": {
        "id": "2bZNEOKNMYcd"
      },
      "source": [
        "## Acessando os itens de um dicionário"
      ]
    },
    {
      "cell_type": "markdown",
      "metadata": {
        "id": "D8Mt9vuXMdFo"
      },
      "source": [
        "Podemos acessar os valores dele de forma similar a como acessamos os valores de uma lista, por exemplo, com a diferença de que usamos as chaves que definimos no lugar dos índices numéricos:"
      ]
    },
    {
      "cell_type": "code",
      "execution_count": null,
      "metadata": {
        "id": "0u6ZlzZWMg4I"
      },
      "outputs": [],
      "source": [
        "print(contatos['Ana'])"
      ]
    },
    {
      "cell_type": "markdown",
      "metadata": {
        "id": "KzotVTUSMke7"
      },
      "source": [
        "Tudo bem! Até que, depois de um tempo, quis ver se eu encontrava o telefone de um velho amigo João. Fiz o seguinte:"
      ]
    },
    {
      "cell_type": "code",
      "execution_count": null,
      "metadata": {
        "id": "YyDpWI6sMsPC"
      },
      "outputs": [],
      "source": [
        "print(contatos['João'])"
      ]
    },
    {
      "cell_type": "markdown",
      "metadata": {
        "id": "Brrda2iXMybb"
      },
      "source": [
        "Hum… uma exceção de tipo KeyError indicando que a chave 'João' não foi encontrada. Mas é um pouco estranho imprimir toda essa mensagem para o usuário, não é? Pode ser confuso... Será que não podemos substituir isso?\n",
        "\n",
        "Os dicionários possuem um método específico para busca de valores, o get(), no qual podemos passar como parâmetros a chave que queremos e um valor padrão para retornar caso essa chave não seja encontrada:"
      ]
    },
    {
      "cell_type": "code",
      "execution_count": null,
      "metadata": {
        "id": "e00080pbM5_K"
      },
      "outputs": [],
      "source": [
        "print(contatos.get('Yan', 'Contato não encontrado'))\n",
        "print(contatos.get('João', 'Contato não encontrado'))"
      ]
    },
    {
      "cell_type": "markdown",
      "metadata": {
        "id": "glWPH16FM94p"
      },
      "source": [
        "Muito melhor agora!\n",
        "\n",
        "Também podemos verificar se um contato está em nosso dicionário através da palavra chave in:"
      ]
    },
    {
      "cell_type": "code",
      "execution_count": null,
      "metadata": {
        "id": "SVHUsJGPNBH4"
      },
      "outputs": [],
      "source": [
        "print('Yan' in contatos)"
      ]
    },
    {
      "cell_type": "markdown",
      "metadata": {
        "id": "hBAp1L8oNH0v"
      },
      "source": [
        "Como esperado!\n",
        "\n",
        "Esses dias, achei um número solto aqui e quis verificar se ele estava em minha agenda:"
      ]
    },
    {
      "cell_type": "code",
      "execution_count": null,
      "metadata": {
        "id": "2i6MLvPZNL8V"
      },
      "outputs": [],
      "source": [
        "print('9999-9999' in contatos)"
      ]
    },
    {
      "cell_type": "markdown",
      "metadata": {
        "id": "x-JcQtJgNM1J"
      },
      "source": [
        "Ué! Mas esse número está sim na agenda, é o número do Pedro! Por que será que o resultado foi False, então?\n",
        "\n",
        "Acontece que o in, usado dessa forma, verifica apenas as chaves do dicionário, não os valores. Para obtermos valores, podemos usar o método values():"
      ]
    },
    {
      "cell_type": "code",
      "execution_count": null,
      "metadata": {
        "id": "wrPlytLANSPV"
      },
      "outputs": [],
      "source": [
        "print('9999-9999' in contatos.values())"
      ]
    },
    {
      "cell_type": "markdown",
      "metadata": {
        "id": "9swVgLnkNVZZ"
      },
      "source": [
        "Agora sim! Temos nossa estrutura de mapeamento e já conseguimos visualizar os dados dela. Mas e agora, o que mais conseguimos fazer?"
      ]
    },
    {
      "cell_type": "markdown",
      "metadata": {
        "id": "36RWaZPqNcem"
      },
      "source": [
        "##Adicionando valores ao dicionário"
      ]
    },
    {
      "cell_type": "markdown",
      "metadata": {
        "id": "rd6E0Ad_NgKp"
      },
      "source": [
        "Encontrei meu amigo João e, finalmente, decidi adicionar o número dele na minha agenda. Mas… como posso fazer isso com nosso dicionário de contatos? Fui tentar usar um método append(), como nas listas, e olha o que apareceu:"
      ]
    },
    {
      "cell_type": "markdown",
      "metadata": {
        "id": "bU3MOTXnNxpO"
      },
      "source": [
        "Esse método não existe… Ainda tentei criar um outro dicionário e fazer uma soma, mas o resultado foi esse:\n",
        "\n",
        "Traceback (most recent call last):\n",
        "  File \"<stdin>\", line 1, in <module>\n",
        "\n",
        "TypeError: unsupported operand type(s) for +: 'dict' and 'dict'\n",
        "\n",
        "Também não funciona! A sintaxe de adicionar um item em um dicionário é um pouco diferente de que em outros tipos do Python, mas também bastante objetiva. Por exemplo, se queremos adicionar o João no nosso dicionário de contatos, basta atribuir seu telefone na chave 'João':"
      ]
    },
    {
      "cell_type": "code",
      "execution_count": null,
      "metadata": {
        "id": "-XGmM1-uOCry"
      },
      "outputs": [],
      "source": [
        "contatos['João'] = '8887-7778'\n",
        "print(contatos)"
      ]
    },
    {
      "cell_type": "markdown",
      "metadata": {
        "id": "Hsy_sHJeOL4J"
      },
      "source": [
        "Deu certo!"
      ]
    },
    {
      "cell_type": "markdown",
      "metadata": {
        "id": "lVISJByGOPm6"
      },
      "source": [
        "##Removendo itens do dicionário"
      ]
    },
    {
      "cell_type": "markdown",
      "metadata": {
        "id": "wnXms-1VOUxd"
      },
      "source": [
        "Infelizmente, minha amiga Marina perdeu o celular e, consequentemente, não era mais dona do número salvo em meu dicionário de contatos. Precisamos, agora, apagar o item que corresponde a ela. Mas como?\n",
        "\n",
        "Uma maneira simples é usando o statement del, dessa forma:"
      ]
    },
    {
      "cell_type": "code",
      "execution_count": null,
      "metadata": {
        "id": "-tGn6QfaOYL1"
      },
      "outputs": [],
      "source": [
        "del contatos['Marina']\n",
        "print(contatos)"
      ]
    },
    {
      "cell_type": "markdown",
      "metadata": {
        "id": "xyZPc6HTOcts"
      },
      "source": [
        "Certo! Mas e se tentarmos remover um item que não existe?"
      ]
    },
    {
      "cell_type": "code",
      "execution_count": null,
      "metadata": {
        "id": "Pyvrhz33Odni"
      },
      "outputs": [],
      "source": [
        "del contatos['Catarina']"
      ]
    },
    {
      "cell_type": "markdown",
      "metadata": {
        "id": "xwSLZTc6Ogwo"
      },
      "source": [
        "Um KeyError, como aquele que obtivemos ao tentar pegar um item que não existia! Para evitar essa exceção, também temos um método de dicionário que pode nos ajudar - o pop().\n",
        "\n",
        "O método pop(), além de remover o elemento com a chave especificada do dicionário, nos retorna o valor desse elemento. Também podemos definir um valor padrão de retorno, para caso a chave não seja encontrada:"
      ]
    },
    {
      "cell_type": "code",
      "execution_count": null,
      "metadata": {
        "id": "Y4wQ-ba7OmFv"
      },
      "outputs": [],
      "source": [
        "contatos = {'Yan': '1234-5678', 'Pedro': '9999-9999', 'Ana': '8765-4321',\n",
        "            'Marina': '8877-7788', 'João': '8887-7778'}\n",
        "\n",
        "print(contatos.pop('Marina', 'Contato não encontrado'))\n",
        "print(contatos.pop('Catarina', 'Contato não encontrado'))\n",
        "print()\n",
        "print(contatos)"
      ]
    },
    {
      "cell_type": "markdown",
      "metadata": {
        "id": "7ma3UMuhJsTv"
      },
      "source": [
        "##Crie uma lista que receba sua idade e sua altura e exiba na tela"
      ]
    },
    {
      "cell_type": "code",
      "execution_count": null,
      "metadata": {
        "id": "3JxNEWggJ3uv"
      },
      "outputs": [],
      "source": [
        "# Coloque aqui o seu "
      ]
    },
    {
      "cell_type": "markdown",
      "metadata": {
        "id": "uXJFRUZ3ZMTf"
      },
      "source": [
        "##Print"
      ]
    },
    {
      "cell_type": "markdown",
      "metadata": {
        "id": "AH27-lcDZqTd"
      },
      "source": [
        "Como vocês devem ter notado nos exemplo anteriores utilizamos o \"print\" para exibir algumas coisas na tela.\n",
        "O \"print\" é uma das muitas funções que temos no python, e a principal função dela é exibir o que chamamos de saída de dados.\n",
        "\n",
        "Normalmente utilizamos ele para exibir mensagens para o usuário final, mas ele também é uma boa ferramenta para testar se o seu código está se comportando como você planejou, te possibilitando exibir o conteúdo das variáveis enquanto o programa está funcionando(em tempo de execução).\n"
      ]
    },
    {
      "cell_type": "markdown",
      "metadata": {
        "id": "sBjsupGmJbyI"
      },
      "source": [
        "## Exercícios"
      ]
    },
    {
      "cell_type": "markdown",
      "metadata": {
        "id": "Xgg5CNy_Jghh"
      },
      "source": [
        " ## Crie uma variável que receba seu nome e outra que receba seu e-mail e exiba ela na tela.\n",
        "\n"
      ]
    },
    {
      "cell_type": "code",
      "execution_count": null,
      "metadata": {
        "id": "YNT1AGM_JoU8"
      },
      "outputs": [],
      "source": [
        "# Coloque aqui o seu código"
      ]
    },
    {
      "cell_type": "markdown",
      "metadata": {
        "id": "BzaWjB00cHPx"
      },
      "source": [
        "##Importar biblioteca"
      ]
    },
    {
      "cell_type": "markdown",
      "metadata": {
        "id": "NYlqvy6WcMip"
      },
      "source": [
        "Uma das coisas que torna o python tão poderoso é a possibilidade de importar bibliotecas que possuem funções que não vem incluídas por padrão no python, mas podem ser incluídas conforme a sua necessidade.\n",
        "\n",
        "Como exemplo temos a biblioteca \"math\" que serve para fazer diversos cáculos matemáticos como por exemplo raiz quadrada.\n",
        "\n",
        "Veja o exemplo:"
      ]
    },
    {
      "cell_type": "code",
      "execution_count": null,
      "metadata": {
        "colab": {
          "base_uri": "https://localhost:8080/"
        },
        "id": "Tv4eSJ0Qct9e",
        "outputId": "e815b1d8-6dbc-4857-aeff-c2803961586e"
      },
      "outputs": [
        {
          "name": "stdout",
          "output_type": "stream",
          "text": [
            "2.0\n"
          ]
        }
      ],
      "source": [
        "import math \n",
        "\n",
        "print(math.sqrt(4))"
      ]
    },
    {
      "cell_type": "markdown",
      "metadata": {
        "id": "pyHJcFdBd8jv"
      },
      "source": [
        "##Exercício\n",
        "\n",
        "Use a biblioteca math para realizar a raiz quadrada de 25 e exibir na tela."
      ]
    },
    {
      "cell_type": "code",
      "execution_count": null,
      "metadata": {
        "id": "XSJlMggYeLLl"
      },
      "outputs": [],
      "source": [
        "##Escreva sua solução aqui"
      ]
    }
  ],
  "metadata": {
    "colab": {
      "collapsed_sections": [],
      "include_colab_link": true,
      "name": "programcao_python.ipynb",
      "provenance": [],
      "toc_visible": true
    },
    "kernelspec": {
      "display_name": "Python 3",
      "name": "python3"
    },
    "language_info": {
      "name": "python"
    }
  },
  "nbformat": 4,
  "nbformat_minor": 2
}
